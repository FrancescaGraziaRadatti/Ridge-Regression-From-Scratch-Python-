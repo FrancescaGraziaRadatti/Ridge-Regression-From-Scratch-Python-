{
 "cells": [
  {
   "cell_type": "code",
   "execution_count": 1,
   "metadata": {},
   "outputs": [],
   "source": [
    "#import libraries and functions  \n",
    "import pandas as pd\n",
    "import numpy as np\n",
    "import matplotlib\n",
    "import matplotlib.pyplot as plt\n",
    "import seaborn as sns\n",
    "from numpy import linalg as LA\n",
    "from pandas import Series, DataFrame\n",
    "from sympy import init_printing, Matrix, symbols, Rational\n",
    "import sympy as sym\n",
    "from warnings import filterwarnings\n",
    "init_printing(use_latex = 'mathjax')\n",
    "filterwarnings('ignore')\n"
   ]
  },
  {
   "cell_type": "code",
   "execution_count": 2,
   "metadata": {
    "scrolled": true
   },
   "outputs": [
    {
     "name": "stdout",
     "output_type": "stream",
     "text": [
      "<class 'pandas.core.frame.DataFrame'>\n",
      "RangeIndex: 20640 entries, 0 to 20639\n",
      "Data columns (total 10 columns):\n",
      " #   Column              Non-Null Count  Dtype  \n",
      "---  ------              --------------  -----  \n",
      " 0   longitude           20640 non-null  float64\n",
      " 1   latitude            20640 non-null  float64\n",
      " 2   housing_median_age  20640 non-null  float64\n",
      " 3   total_rooms         20640 non-null  float64\n",
      " 4   total_bedrooms      20433 non-null  float64\n",
      " 5   population          20640 non-null  float64\n",
      " 6   households          20640 non-null  float64\n",
      " 7   median_income       20640 non-null  float64\n",
      " 8   median_house_value  20640 non-null  float64\n",
      " 9   ocean_proximity     20640 non-null  object \n",
      "dtypes: float64(9), object(1)\n",
      "memory usage: 1.6+ MB\n"
     ]
    }
   ],
   "source": [
    "#import the dataset \n",
    "housing = pd.read_csv(\"C:/Users/franc/OneDrive/Desktop/DSE/python/housingml.csv\")\n",
    "housing.info()"
   ]
  },
  {
   "cell_type": "code",
   "execution_count": 3,
   "metadata": {},
   "outputs": [
    {
     "data": {
      "text/plain": [
       "<1H OCEAN     9136\n",
       "INLAND        6551\n",
       "NEAR OCEAN    2658\n",
       "NEAR BAY      2290\n",
       "ISLAND           5\n",
       "Name: ocean_proximity, dtype: int64"
      ]
     },
     "execution_count": 3,
     "metadata": {},
     "output_type": "execute_result"
    }
   ],
   "source": [
    "#observe categorical variable \n",
    "housing[\"ocean_proximity\"].value_counts()\n"
   ]
  },
  {
   "cell_type": "code",
   "execution_count": 4,
   "metadata": {},
   "outputs": [
    {
     "data": {
      "text/html": [
       "<div>\n",
       "<style scoped>\n",
       "    .dataframe tbody tr th:only-of-type {\n",
       "        vertical-align: middle;\n",
       "    }\n",
       "\n",
       "    .dataframe tbody tr th {\n",
       "        vertical-align: top;\n",
       "    }\n",
       "\n",
       "    .dataframe thead th {\n",
       "        text-align: right;\n",
       "    }\n",
       "</style>\n",
       "<table border=\"1\" class=\"dataframe\">\n",
       "  <thead>\n",
       "    <tr style=\"text-align: right;\">\n",
       "      <th></th>\n",
       "      <th>longitude</th>\n",
       "      <th>latitude</th>\n",
       "      <th>housing_median_age</th>\n",
       "      <th>total_rooms</th>\n",
       "      <th>total_bedrooms</th>\n",
       "      <th>population</th>\n",
       "      <th>households</th>\n",
       "      <th>median_income</th>\n",
       "      <th>median_house_value</th>\n",
       "      <th>ocean_proximity_&lt;1H OCEAN</th>\n",
       "      <th>ocean_proximity_INLAND</th>\n",
       "      <th>ocean_proximity_ISLAND</th>\n",
       "      <th>ocean_proximity_NEAR BAY</th>\n",
       "      <th>ocean_proximity_NEAR OCEAN</th>\n",
       "    </tr>\n",
       "  </thead>\n",
       "  <tbody>\n",
       "    <tr>\n",
       "      <th>0</th>\n",
       "      <td>-122.23</td>\n",
       "      <td>37.88</td>\n",
       "      <td>41.0</td>\n",
       "      <td>880.0</td>\n",
       "      <td>129.0</td>\n",
       "      <td>322.0</td>\n",
       "      <td>126.0</td>\n",
       "      <td>8.3252</td>\n",
       "      <td>452600.0</td>\n",
       "      <td>0</td>\n",
       "      <td>0</td>\n",
       "      <td>0</td>\n",
       "      <td>1</td>\n",
       "      <td>0</td>\n",
       "    </tr>\n",
       "    <tr>\n",
       "      <th>1</th>\n",
       "      <td>-122.22</td>\n",
       "      <td>37.86</td>\n",
       "      <td>21.0</td>\n",
       "      <td>7099.0</td>\n",
       "      <td>1106.0</td>\n",
       "      <td>2401.0</td>\n",
       "      <td>1138.0</td>\n",
       "      <td>8.3014</td>\n",
       "      <td>358500.0</td>\n",
       "      <td>0</td>\n",
       "      <td>0</td>\n",
       "      <td>0</td>\n",
       "      <td>1</td>\n",
       "      <td>0</td>\n",
       "    </tr>\n",
       "    <tr>\n",
       "      <th>2</th>\n",
       "      <td>-122.24</td>\n",
       "      <td>37.85</td>\n",
       "      <td>52.0</td>\n",
       "      <td>1467.0</td>\n",
       "      <td>190.0</td>\n",
       "      <td>496.0</td>\n",
       "      <td>177.0</td>\n",
       "      <td>7.2574</td>\n",
       "      <td>352100.0</td>\n",
       "      <td>0</td>\n",
       "      <td>0</td>\n",
       "      <td>0</td>\n",
       "      <td>1</td>\n",
       "      <td>0</td>\n",
       "    </tr>\n",
       "    <tr>\n",
       "      <th>3</th>\n",
       "      <td>-122.25</td>\n",
       "      <td>37.85</td>\n",
       "      <td>52.0</td>\n",
       "      <td>1274.0</td>\n",
       "      <td>235.0</td>\n",
       "      <td>558.0</td>\n",
       "      <td>219.0</td>\n",
       "      <td>5.6431</td>\n",
       "      <td>341300.0</td>\n",
       "      <td>0</td>\n",
       "      <td>0</td>\n",
       "      <td>0</td>\n",
       "      <td>1</td>\n",
       "      <td>0</td>\n",
       "    </tr>\n",
       "    <tr>\n",
       "      <th>4</th>\n",
       "      <td>-122.25</td>\n",
       "      <td>37.85</td>\n",
       "      <td>52.0</td>\n",
       "      <td>1627.0</td>\n",
       "      <td>280.0</td>\n",
       "      <td>565.0</td>\n",
       "      <td>259.0</td>\n",
       "      <td>3.8462</td>\n",
       "      <td>342200.0</td>\n",
       "      <td>0</td>\n",
       "      <td>0</td>\n",
       "      <td>0</td>\n",
       "      <td>1</td>\n",
       "      <td>0</td>\n",
       "    </tr>\n",
       "  </tbody>\n",
       "</table>\n",
       "</div>"
      ],
      "text/plain": [
       "   longitude  latitude  housing_median_age  total_rooms  total_bedrooms  \\\n",
       "0    -122.23     37.88                41.0        880.0           129.0   \n",
       "1    -122.22     37.86                21.0       7099.0          1106.0   \n",
       "2    -122.24     37.85                52.0       1467.0           190.0   \n",
       "3    -122.25     37.85                52.0       1274.0           235.0   \n",
       "4    -122.25     37.85                52.0       1627.0           280.0   \n",
       "\n",
       "   population  households  median_income  median_house_value  \\\n",
       "0       322.0       126.0         8.3252            452600.0   \n",
       "1      2401.0      1138.0         8.3014            358500.0   \n",
       "2       496.0       177.0         7.2574            352100.0   \n",
       "3       558.0       219.0         5.6431            341300.0   \n",
       "4       565.0       259.0         3.8462            342200.0   \n",
       "\n",
       "   ocean_proximity_<1H OCEAN  ocean_proximity_INLAND  ocean_proximity_ISLAND  \\\n",
       "0                          0                       0                       0   \n",
       "1                          0                       0                       0   \n",
       "2                          0                       0                       0   \n",
       "3                          0                       0                       0   \n",
       "4                          0                       0                       0   \n",
       "\n",
       "   ocean_proximity_NEAR BAY  ocean_proximity_NEAR OCEAN  \n",
       "0                         1                           0  \n",
       "1                         1                           0  \n",
       "2                         1                           0  \n",
       "3                         1                           0  \n",
       "4                         1                           0  "
      ]
     },
     "execution_count": 4,
     "metadata": {},
     "output_type": "execute_result"
    }
   ],
   "source": [
    "#create dummies for ocean  proximity\n",
    "housing2= pd.get_dummies(housing, columns=[\"ocean_proximity\"])\n",
    "housing2.head()"
   ]
  },
  {
   "cell_type": "code",
   "execution_count": 5,
   "metadata": {},
   "outputs": [],
   "source": [
    "#set the random seed  \n",
    "np.random.seed(9)\n",
    "#split the dataset in training and test set\n",
    "sample_housing2 = housing2.sample(frac=1)\n",
    "training_size = int(0.6* len(housing2))\n",
    "training_set = sample_housing2[:training_size]\n",
    "test_set = sample_housing2[training_size:]\n"
   ]
  },
  {
   "cell_type": "code",
   "execution_count": 6,
   "metadata": {},
   "outputs": [
    {
     "data": {
      "text/plain": [
       "array([[<matplotlib.axes._subplots.AxesSubplot object at 0x0000018EB97E3B08>,\n",
       "        <matplotlib.axes._subplots.AxesSubplot object at 0x0000018EBFFD3608>,\n",
       "        <matplotlib.axes._subplots.AxesSubplot object at 0x0000018EC000E588>,\n",
       "        <matplotlib.axes._subplots.AxesSubplot object at 0x0000018EC004BE88>],\n",
       "       [<matplotlib.axes._subplots.AxesSubplot object at 0x0000018EC09E07C8>,\n",
       "        <matplotlib.axes._subplots.AxesSubplot object at 0x0000018EC0A17888>,\n",
       "        <matplotlib.axes._subplots.AxesSubplot object at 0x0000018EC0A4E988>,\n",
       "        <matplotlib.axes._subplots.AxesSubplot object at 0x0000018EC0A86AC8>],\n",
       "       [<matplotlib.axes._subplots.AxesSubplot object at 0x0000018EC0A916C8>,\n",
       "        <matplotlib.axes._subplots.AxesSubplot object at 0x0000018EC0ACA8C8>,\n",
       "        <matplotlib.axes._subplots.AxesSubplot object at 0x0000018EC0B2FD88>,\n",
       "        <matplotlib.axes._subplots.AxesSubplot object at 0x0000018EC0B67EC8>],\n",
       "       [<matplotlib.axes._subplots.AxesSubplot object at 0x0000018EC0BA0F08>,\n",
       "        <matplotlib.axes._subplots.AxesSubplot object at 0x0000018EC0BDB048>,\n",
       "        <matplotlib.axes._subplots.AxesSubplot object at 0x0000018EC0C15188>,\n",
       "        <matplotlib.axes._subplots.AxesSubplot object at 0x0000018EC0C4B348>]],\n",
       "      dtype=object)"
      ]
     },
     "execution_count": 6,
     "metadata": {},
     "output_type": "execute_result"
    },
    {
     "data": {
      "image/png": "[encoded data removed]",
      "text/plain": [
       "<Figure size 1440x720 with 16 Axes>"
      ]
     },
     "metadata": {
      "needs_background": "light"
     },
     "output_type": "display_data"
    }
   ],
   "source": [
    "#descriptive analysis\n",
    "training_set.hist(bins=50,figsize=(20,10))"
   ]
  },
  {
   "cell_type": "code",
   "execution_count": 7,
   "metadata": {},
   "outputs": [
    {
     "data": {
      "image/png": "[encoded data removed]",
      "text/plain": [
       "<Figure size 720x504 with 2 Axes>"
      ]
     },
     "metadata": {
      "needs_background": "light"
     },
     "output_type": "display_data"
    }
   ],
   "source": [
    "#price mapping \n",
    "training_set.plot(kind=\"scatter\", x=\"longitude\", y=\"latitude\",\n",
    "   c=\"median_house_value\", cmap=plt.get_cmap(\"seismic_r\"),\n",
    "    colorbar=True, alpha=0.4, figsize=(10,7))\n",
    "plt.title('Heatmap California')\n",
    "plt.show()"
   ]
  },
  {
   "cell_type": "code",
   "execution_count": 8,
   "metadata": {},
   "outputs": [
    {
     "data": {
      "text/plain": [
       "(longitude                       0\n",
       " latitude                        0\n",
       " housing_median_age              0\n",
       " total_rooms                     0\n",
       " total_bedrooms                120\n",
       " population                      0\n",
       " households                      0\n",
       " median_income                   0\n",
       " median_house_value              0\n",
       " ocean_proximity_<1H OCEAN       0\n",
       " ocean_proximity_INLAND          0\n",
       " ocean_proximity_ISLAND          0\n",
       " ocean_proximity_NEAR BAY        0\n",
       " ocean_proximity_NEAR OCEAN      0\n",
       " dtype: int64,\n",
       " longitude                      0\n",
       " latitude                       0\n",
       " housing_median_age             0\n",
       " total_rooms                    0\n",
       " total_bedrooms                87\n",
       " population                     0\n",
       " households                     0\n",
       " median_income                  0\n",
       " median_house_value             0\n",
       " ocean_proximity_<1H OCEAN      0\n",
       " ocean_proximity_INLAND         0\n",
       " ocean_proximity_ISLAND         0\n",
       " ocean_proximity_NEAR BAY       0\n",
       " ocean_proximity_NEAR OCEAN     0\n",
       " dtype: int64)"
      ]
     },
     "execution_count": 8,
     "metadata": {},
     "output_type": "execute_result"
    }
   ],
   "source": [
    "#check null values \n",
    "training_set.isna().sum(), test_set.isna().sum()"
   ]
  },
  {
   "cell_type": "code",
   "execution_count": 9,
   "metadata": {
    "scrolled": true
   },
   "outputs": [],
   "source": [
    "#replace null values\n",
    "median=training_set['total_bedrooms'].median()\n",
    "training_set['total_bedrooms'] = training_set['total_bedrooms'].fillna(median)\n",
    "test_set['total_bedrooms'] = test_set['total_bedrooms'].fillna(median)\n"
   ]
  },
  {
   "cell_type": "code",
   "execution_count": 10,
   "metadata": {},
   "outputs": [
    {
     "data": {
      "text/plain": [
       "(longitude                     0\n",
       " latitude                      0\n",
       " housing_median_age            0\n",
       " total_rooms                   0\n",
       " total_bedrooms                0\n",
       " population                    0\n",
       " households                    0\n",
       " median_income                 0\n",
       " median_house_value            0\n",
       " ocean_proximity_<1H OCEAN     0\n",
       " ocean_proximity_INLAND        0\n",
       " ocean_proximity_ISLAND        0\n",
       " ocean_proximity_NEAR BAY      0\n",
       " ocean_proximity_NEAR OCEAN    0\n",
       " dtype: int64,\n",
       " longitude                     0\n",
       " latitude                      0\n",
       " housing_median_age            0\n",
       " total_rooms                   0\n",
       " total_bedrooms                0\n",
       " population                    0\n",
       " households                    0\n",
       " median_income                 0\n",
       " median_house_value            0\n",
       " ocean_proximity_<1H OCEAN     0\n",
       " ocean_proximity_INLAND        0\n",
       " ocean_proximity_ISLAND        0\n",
       " ocean_proximity_NEAR BAY      0\n",
       " ocean_proximity_NEAR OCEAN    0\n",
       " dtype: int64)"
      ]
     },
     "execution_count": 10,
     "metadata": {},
     "output_type": "execute_result"
    }
   ],
   "source": [
    "#final check\n",
    "training_set.isna().sum(), test_set.isna().sum()"
   ]
  },
  {
   "cell_type": "code",
   "execution_count": 22,
   "metadata": {},
   "outputs": [],
   "source": [
    "#CHECK OUTLIERS "
   ]
  },
  {
   "cell_type": "code",
   "execution_count": 93,
   "metadata": {},
   "outputs": [
    {
     "data": {
      "text/plain": [
       "<matplotlib.axes._subplots.AxesSubplot at 0x18ec1846888>"
      ]
     },
     "execution_count": 93,
     "metadata": {},
     "output_type": "execute_result"
    },
    {
     "data": {
      "image/png": "[encoded data removed]",
      "text/plain": [
       "<Figure size 432x288 with 1 Axes>"
      ]
     },
     "metadata": {
      "needs_background": "light"
     },
     "output_type": "display_data"
    }
   ],
   "source": [
    "sns.boxplot(x=training_set['population'])"
   ]
  },
  {
   "cell_type": "code",
   "execution_count": 94,
   "metadata": {},
   "outputs": [
    {
     "data": {
      "text/plain": [
       "<matplotlib.axes._subplots.AxesSubplot at 0x18ec47e41c8>"
      ]
     },
     "execution_count": 94,
     "metadata": {},
     "output_type": "execute_result"
    },
    {
     "data": {
      "image/png": "[encoded data removed]",
      "text/plain": [
       "<Figure size 432x288 with 1 Axes>"
      ]
     },
     "metadata": {
      "needs_background": "light"
     },
     "output_type": "display_data"
    }
   ],
   "source": [
    "sns.boxplot(x=training_set['total_bedrooms'])"
   ]
  },
  {
   "cell_type": "code",
   "execution_count": 95,
   "metadata": {},
   "outputs": [
    {
     "data": {
      "text/plain": [
       "<matplotlib.axes._subplots.AxesSubplot at 0x18ec485bf88>"
      ]
     },
     "execution_count": 95,
     "metadata": {},
     "output_type": "execute_result"
    },
    {
     "data": {
      "image/png": "[encoded data removed]",
      "text/plain": [
       "<Figure size 432x288 with 1 Axes>"
      ]
     },
     "metadata": {
      "needs_background": "light"
     },
     "output_type": "display_data"
    }
   ],
   "source": [
    "sns.boxplot(x=training_set['households'])"
   ]
  },
  {
   "cell_type": "code",
   "execution_count": 96,
   "metadata": {},
   "outputs": [
    {
     "data": {
      "text/plain": [
       "<matplotlib.axes._subplots.AxesSubplot at 0x18ec48b95c8>"
      ]
     },
     "execution_count": 96,
     "metadata": {},
     "output_type": "execute_result"
    },
    {
     "data": {
      "image/png": "[encoded data removed]",
      "text/plain": [
       "<Figure size 432x288 with 1 Axes>"
      ]
     },
     "metadata": {
      "needs_background": "light"
     },
     "output_type": "display_data"
    }
   ],
   "source": [
    "sns.boxplot(x=training_set['longitude'])"
   ]
  },
  {
   "cell_type": "code",
   "execution_count": 97,
   "metadata": {},
   "outputs": [
    {
     "data": {
      "text/plain": [
       "<matplotlib.axes._subplots.AxesSubplot at 0x18ec4917a88>"
      ]
     },
     "execution_count": 97,
     "metadata": {},
     "output_type": "execute_result"
    },
    {
     "data": {
      "image/png": "[encoded data removed]",
      "text/plain": [
       "<Figure size 432x288 with 1 Axes>"
      ]
     },
     "metadata": {
      "needs_background": "light"
     },
     "output_type": "display_data"
    }
   ],
   "source": [
    "sns.boxplot(x=training_set['latitude'])"
   ]
  },
  {
   "cell_type": "code",
   "execution_count": 98,
   "metadata": {},
   "outputs": [
    {
     "data": {
      "text/plain": [
       "<matplotlib.axes._subplots.AxesSubplot at 0x18ec47f0888>"
      ]
     },
     "execution_count": 98,
     "metadata": {},
     "output_type": "execute_result"
    },
    {
     "data": {
      "image/png": "[encoded data removed]",
      "text/plain": [
       "<Figure size 432x288 with 1 Axes>"
      ]
     },
     "metadata": {
      "needs_background": "light"
     },
     "output_type": "display_data"
    }
   ],
   "source": [
    "sns.boxplot(x=training_set['housing_median_age'])"
   ]
  },
  {
   "cell_type": "code",
   "execution_count": 99,
   "metadata": {
    "scrolled": true
   },
   "outputs": [
    {
     "data": {
      "text/plain": [
       "<matplotlib.axes._subplots.AxesSubplot at 0x18ec8988788>"
      ]
     },
     "execution_count": 99,
     "metadata": {},
     "output_type": "execute_result"
    },
    {
     "data": {
      "image/png": "[encoded data removed]",
      "text/plain": [
       "<Figure size 432x288 with 1 Axes>"
      ]
     },
     "metadata": {
      "needs_background": "light"
     },
     "output_type": "display_data"
    }
   ],
   "source": [
    "sns.boxplot(x=training_set['total_rooms'])"
   ]
  },
  {
   "cell_type": "code",
   "execution_count": 12,
   "metadata": {},
   "outputs": [],
   "source": [
    "#NORMALIZATION: min-max scaling"
   ]
  },
  {
   "cell_type": "code",
   "execution_count": 11,
   "metadata": {},
   "outputs": [
    {
     "data": {
      "text/html": [
       "<div>\n",
       "<style scoped>\n",
       "    .dataframe tbody tr th:only-of-type {\n",
       "        vertical-align: middle;\n",
       "    }\n",
       "\n",
       "    .dataframe tbody tr th {\n",
       "        vertical-align: top;\n",
       "    }\n",
       "\n",
       "    .dataframe thead th {\n",
       "        text-align: right;\n",
       "    }\n",
       "</style>\n",
       "<table border=\"1\" class=\"dataframe\">\n",
       "  <thead>\n",
       "    <tr style=\"text-align: right;\">\n",
       "      <th></th>\n",
       "      <th>longitude</th>\n",
       "      <th>latitude</th>\n",
       "      <th>housing_median_age</th>\n",
       "      <th>total_rooms</th>\n",
       "      <th>total_bedrooms</th>\n",
       "      <th>population</th>\n",
       "      <th>households</th>\n",
       "      <th>median_income</th>\n",
       "      <th>median_house_value</th>\n",
       "      <th>ocean_proximity_&lt;1H OCEAN</th>\n",
       "      <th>ocean_proximity_INLAND</th>\n",
       "      <th>ocean_proximity_ISLAND</th>\n",
       "      <th>ocean_proximity_NEAR BAY</th>\n",
       "      <th>ocean_proximity_NEAR OCEAN</th>\n",
       "    </tr>\n",
       "  </thead>\n",
       "  <tbody>\n",
       "    <tr>\n",
       "      <th>count</th>\n",
       "      <td>12384.000000</td>\n",
       "      <td>12384.000000</td>\n",
       "      <td>12384.000000</td>\n",
       "      <td>12384.000000</td>\n",
       "      <td>12384.000000</td>\n",
       "      <td>12384.000000</td>\n",
       "      <td>12384.000000</td>\n",
       "      <td>12384.000000</td>\n",
       "      <td>12384.000000</td>\n",
       "      <td>12384.000000</td>\n",
       "      <td>12384.000000</td>\n",
       "      <td>12384.000000</td>\n",
       "      <td>12384.000000</td>\n",
       "      <td>12384.000000</td>\n",
       "    </tr>\n",
       "    <tr>\n",
       "      <th>mean</th>\n",
       "      <td>-119.569725</td>\n",
       "      <td>35.627302</td>\n",
       "      <td>28.559109</td>\n",
       "      <td>2654.209545</td>\n",
       "      <td>540.606508</td>\n",
       "      <td>1436.843023</td>\n",
       "      <td>502.889616</td>\n",
       "      <td>3.879020</td>\n",
       "      <td>206508.097061</td>\n",
       "      <td>0.443556</td>\n",
       "      <td>0.318395</td>\n",
       "      <td>0.000242</td>\n",
       "      <td>0.110788</td>\n",
       "      <td>0.127019</td>\n",
       "    </tr>\n",
       "    <tr>\n",
       "      <th>std</th>\n",
       "      <td>1.997519</td>\n",
       "      <td>2.124992</td>\n",
       "      <td>12.599768</td>\n",
       "      <td>2171.812957</td>\n",
       "      <td>421.654226</td>\n",
       "      <td>1157.866349</td>\n",
       "      <td>385.164302</td>\n",
       "      <td>1.894348</td>\n",
       "      <td>114862.282378</td>\n",
       "      <td>0.496824</td>\n",
       "      <td>0.465872</td>\n",
       "      <td>0.015563</td>\n",
       "      <td>0.313882</td>\n",
       "      <td>0.333007</td>\n",
       "    </tr>\n",
       "    <tr>\n",
       "      <th>min</th>\n",
       "      <td>-124.300000</td>\n",
       "      <td>32.540000</td>\n",
       "      <td>1.000000</td>\n",
       "      <td>8.000000</td>\n",
       "      <td>1.000000</td>\n",
       "      <td>8.000000</td>\n",
       "      <td>1.000000</td>\n",
       "      <td>0.499900</td>\n",
       "      <td>14999.000000</td>\n",
       "      <td>0.000000</td>\n",
       "      <td>0.000000</td>\n",
       "      <td>0.000000</td>\n",
       "      <td>0.000000</td>\n",
       "      <td>0.000000</td>\n",
       "    </tr>\n",
       "    <tr>\n",
       "      <th>25%</th>\n",
       "      <td>-121.790000</td>\n",
       "      <td>33.930000</td>\n",
       "      <td>18.000000</td>\n",
       "      <td>1448.000000</td>\n",
       "      <td>298.000000</td>\n",
       "      <td>793.000000</td>\n",
       "      <td>280.000000</td>\n",
       "      <td>2.579425</td>\n",
       "      <td>120100.000000</td>\n",
       "      <td>0.000000</td>\n",
       "      <td>0.000000</td>\n",
       "      <td>0.000000</td>\n",
       "      <td>0.000000</td>\n",
       "      <td>0.000000</td>\n",
       "    </tr>\n",
       "    <tr>\n",
       "      <th>50%</th>\n",
       "      <td>-118.500000</td>\n",
       "      <td>34.260000</td>\n",
       "      <td>29.000000</td>\n",
       "      <td>2144.000000</td>\n",
       "      <td>437.000000</td>\n",
       "      <td>1176.000000</td>\n",
       "      <td>411.000000</td>\n",
       "      <td>3.548500</td>\n",
       "      <td>179500.000000</td>\n",
       "      <td>0.000000</td>\n",
       "      <td>0.000000</td>\n",
       "      <td>0.000000</td>\n",
       "      <td>0.000000</td>\n",
       "      <td>0.000000</td>\n",
       "    </tr>\n",
       "    <tr>\n",
       "      <th>75%</th>\n",
       "      <td>-118.010000</td>\n",
       "      <td>37.710000</td>\n",
       "      <td>37.000000</td>\n",
       "      <td>3179.250000</td>\n",
       "      <td>649.250000</td>\n",
       "      <td>1737.000000</td>\n",
       "      <td>609.000000</td>\n",
       "      <td>4.746850</td>\n",
       "      <td>264000.000000</td>\n",
       "      <td>1.000000</td>\n",
       "      <td>1.000000</td>\n",
       "      <td>0.000000</td>\n",
       "      <td>0.000000</td>\n",
       "      <td>0.000000</td>\n",
       "    </tr>\n",
       "    <tr>\n",
       "      <th>max</th>\n",
       "      <td>-114.470000</td>\n",
       "      <td>41.860000</td>\n",
       "      <td>52.000000</td>\n",
       "      <td>39320.000000</td>\n",
       "      <td>6445.000000</td>\n",
       "      <td>35682.000000</td>\n",
       "      <td>6082.000000</td>\n",
       "      <td>15.000100</td>\n",
       "      <td>500001.000000</td>\n",
       "      <td>1.000000</td>\n",
       "      <td>1.000000</td>\n",
       "      <td>1.000000</td>\n",
       "      <td>1.000000</td>\n",
       "      <td>1.000000</td>\n",
       "    </tr>\n",
       "  </tbody>\n",
       "</table>\n",
       "</div>"
      ],
      "text/plain": [
       "          longitude      latitude  housing_median_age   total_rooms  \\\n",
       "count  12384.000000  12384.000000        12384.000000  12384.000000   \n",
       "mean    -119.569725     35.627302           28.559109   2654.209545   \n",
       "std        1.997519      2.124992           12.599768   2171.812957   \n",
       "min     -124.300000     32.540000            1.000000      8.000000   \n",
       "25%     -121.790000     33.930000           18.000000   1448.000000   \n",
       "50%     -118.500000     34.260000           29.000000   2144.000000   \n",
       "75%     -118.010000     37.710000           37.000000   3179.250000   \n",
       "max     -114.470000     41.860000           52.000000  39320.000000   \n",
       "\n",
       "       total_bedrooms    population    households  median_income  \\\n",
       "count    12384.000000  12384.000000  12384.000000   12384.000000   \n",
       "mean       540.606508   1436.843023    502.889616       3.879020   \n",
       "std        421.654226   1157.866349    385.164302       1.894348   \n",
       "min          1.000000      8.000000      1.000000       0.499900   \n",
       "25%        298.000000    793.000000    280.000000       2.579425   \n",
       "50%        437.000000   1176.000000    411.000000       3.548500   \n",
       "75%        649.250000   1737.000000    609.000000       4.746850   \n",
       "max       6445.000000  35682.000000   6082.000000      15.000100   \n",
       "\n",
       "       median_house_value  ocean_proximity_<1H OCEAN  ocean_proximity_INLAND  \\\n",
       "count        12384.000000               12384.000000            12384.000000   \n",
       "mean        206508.097061                   0.443556                0.318395   \n",
       "std         114862.282378                   0.496824                0.465872   \n",
       "min          14999.000000                   0.000000                0.000000   \n",
       "25%         120100.000000                   0.000000                0.000000   \n",
       "50%         179500.000000                   0.000000                0.000000   \n",
       "75%         264000.000000                   1.000000                1.000000   \n",
       "max         500001.000000                   1.000000                1.000000   \n",
       "\n",
       "       ocean_proximity_ISLAND  ocean_proximity_NEAR BAY  \\\n",
       "count            12384.000000              12384.000000   \n",
       "mean                 0.000242                  0.110788   \n",
       "std                  0.015563                  0.313882   \n",
       "min                  0.000000                  0.000000   \n",
       "25%                  0.000000                  0.000000   \n",
       "50%                  0.000000                  0.000000   \n",
       "75%                  0.000000                  0.000000   \n",
       "max                  1.000000                  1.000000   \n",
       "\n",
       "       ocean_proximity_NEAR OCEAN  \n",
       "count                12384.000000  \n",
       "mean                     0.127019  \n",
       "std                      0.333007  \n",
       "min                      0.000000  \n",
       "25%                      0.000000  \n",
       "50%                      0.000000  \n",
       "75%                      0.000000  \n",
       "max                      1.000000  "
      ]
     },
     "execution_count": 11,
     "metadata": {},
     "output_type": "execute_result"
    }
   ],
   "source": [
    "training_set.describe()"
   ]
  },
  {
   "cell_type": "code",
   "execution_count": 13,
   "metadata": {},
   "outputs": [
    {
     "data": {
      "text/html": [
       "<div>\n",
       "<style scoped>\n",
       "    .dataframe tbody tr th:only-of-type {\n",
       "        vertical-align: middle;\n",
       "    }\n",
       "\n",
       "    .dataframe tbody tr th {\n",
       "        vertical-align: top;\n",
       "    }\n",
       "\n",
       "    .dataframe thead th {\n",
       "        text-align: right;\n",
       "    }\n",
       "</style>\n",
       "<table border=\"1\" class=\"dataframe\">\n",
       "  <thead>\n",
       "    <tr style=\"text-align: right;\">\n",
       "      <th></th>\n",
       "      <th>longitude</th>\n",
       "      <th>latitude</th>\n",
       "      <th>housing_median_age</th>\n",
       "      <th>total_rooms</th>\n",
       "      <th>total_bedrooms</th>\n",
       "      <th>population</th>\n",
       "      <th>households</th>\n",
       "      <th>median_income</th>\n",
       "      <th>median_house_value</th>\n",
       "    </tr>\n",
       "  </thead>\n",
       "  <tbody>\n",
       "    <tr>\n",
       "      <th>20558</th>\n",
       "      <td>-121.80</td>\n",
       "      <td>38.67</td>\n",
       "      <td>10.0</td>\n",
       "      <td>2086.0</td>\n",
       "      <td>380.0</td>\n",
       "      <td>1073.0</td>\n",
       "      <td>378.0</td>\n",
       "      <td>4.5526</td>\n",
       "      <td>154400.0</td>\n",
       "    </tr>\n",
       "    <tr>\n",
       "      <th>11430</th>\n",
       "      <td>-117.97</td>\n",
       "      <td>33.66</td>\n",
       "      <td>22.0</td>\n",
       "      <td>3914.0</td>\n",
       "      <td>600.0</td>\n",
       "      <td>1871.0</td>\n",
       "      <td>607.0</td>\n",
       "      <td>5.8541</td>\n",
       "      <td>281500.0</td>\n",
       "    </tr>\n",
       "    <tr>\n",
       "      <th>2656</th>\n",
       "      <td>-124.25</td>\n",
       "      <td>40.28</td>\n",
       "      <td>32.0</td>\n",
       "      <td>1430.0</td>\n",
       "      <td>419.0</td>\n",
       "      <td>434.0</td>\n",
       "      <td>187.0</td>\n",
       "      <td>1.9417</td>\n",
       "      <td>76100.0</td>\n",
       "    </tr>\n",
       "    <tr>\n",
       "      <th>14267</th>\n",
       "      <td>-117.11</td>\n",
       "      <td>32.69</td>\n",
       "      <td>37.0</td>\n",
       "      <td>2395.0</td>\n",
       "      <td>627.0</td>\n",
       "      <td>2489.0</td>\n",
       "      <td>599.0</td>\n",
       "      <td>1.5933</td>\n",
       "      <td>86300.0</td>\n",
       "    </tr>\n",
       "    <tr>\n",
       "      <th>3684</th>\n",
       "      <td>-118.37</td>\n",
       "      <td>34.21</td>\n",
       "      <td>36.0</td>\n",
       "      <td>1392.0</td>\n",
       "      <td>326.0</td>\n",
       "      <td>1181.0</td>\n",
       "      <td>303.0</td>\n",
       "      <td>3.1563</td>\n",
       "      <td>176400.0</td>\n",
       "    </tr>\n",
       "  </tbody>\n",
       "</table>\n",
       "</div>"
      ],
      "text/plain": [
       "       longitude  latitude  housing_median_age  total_rooms  total_bedrooms  \\\n",
       "20558    -121.80     38.67                10.0       2086.0           380.0   \n",
       "11430    -117.97     33.66                22.0       3914.0           600.0   \n",
       "2656     -124.25     40.28                32.0       1430.0           419.0   \n",
       "14267    -117.11     32.69                37.0       2395.0           627.0   \n",
       "3684     -118.37     34.21                36.0       1392.0           326.0   \n",
       "\n",
       "       population  households  median_income  median_house_value  \n",
       "20558      1073.0       378.0         4.5526            154400.0  \n",
       "11430      1871.0       607.0         5.8541            281500.0  \n",
       "2656        434.0       187.0         1.9417             76100.0  \n",
       "14267      2489.0       599.0         1.5933             86300.0  \n",
       "3684       1181.0       303.0         3.1563            176400.0  "
      ]
     },
     "execution_count": 13,
     "metadata": {},
     "output_type": "execute_result"
    }
   ],
   "source": [
    "#exlude dummies from training set\n",
    "training_set2=training_set.iloc[:,:9]\n",
    "training_set2.head()"
   ]
  },
  {
   "cell_type": "code",
   "execution_count": 14,
   "metadata": {},
   "outputs": [
    {
     "data": {
      "text/latex": [
       "$\\displaystyle \\left( 12384, \\  9\\right)$"
      ],
      "text/plain": [
       "(12384, 9)"
      ]
     },
     "execution_count": 14,
     "metadata": {},
     "output_type": "execute_result"
    }
   ],
   "source": [
    "training_set2.shape"
   ]
  },
  {
   "cell_type": "code",
   "execution_count": 15,
   "metadata": {},
   "outputs": [
    {
     "data": {
      "text/html": [
       "<div>\n",
       "<style scoped>\n",
       "    .dataframe tbody tr th:only-of-type {\n",
       "        vertical-align: middle;\n",
       "    }\n",
       "\n",
       "    .dataframe tbody tr th {\n",
       "        vertical-align: top;\n",
       "    }\n",
       "\n",
       "    .dataframe thead th {\n",
       "        text-align: right;\n",
       "    }\n",
       "</style>\n",
       "<table border=\"1\" class=\"dataframe\">\n",
       "  <thead>\n",
       "    <tr style=\"text-align: right;\">\n",
       "      <th></th>\n",
       "      <th>longitude</th>\n",
       "      <th>latitude</th>\n",
       "      <th>housing_median_age</th>\n",
       "      <th>total_rooms</th>\n",
       "      <th>total_bedrooms</th>\n",
       "      <th>population</th>\n",
       "      <th>households</th>\n",
       "      <th>median_income</th>\n",
       "      <th>median_house_value</th>\n",
       "    </tr>\n",
       "  </thead>\n",
       "  <tbody>\n",
       "    <tr>\n",
       "      <th>13339</th>\n",
       "      <td>-117.66</td>\n",
       "      <td>34.03</td>\n",
       "      <td>14.0</td>\n",
       "      <td>2137.0</td>\n",
       "      <td>345.0</td>\n",
       "      <td>1151.0</td>\n",
       "      <td>352.0</td>\n",
       "      <td>5.7530</td>\n",
       "      <td>185500.0</td>\n",
       "    </tr>\n",
       "    <tr>\n",
       "      <th>2590</th>\n",
       "      <td>-124.09</td>\n",
       "      <td>40.88</td>\n",
       "      <td>31.0</td>\n",
       "      <td>1982.0</td>\n",
       "      <td>495.0</td>\n",
       "      <td>1052.0</td>\n",
       "      <td>467.0</td>\n",
       "      <td>1.5326</td>\n",
       "      <td>74100.0</td>\n",
       "    </tr>\n",
       "    <tr>\n",
       "      <th>18494</th>\n",
       "      <td>-121.57</td>\n",
       "      <td>37.02</td>\n",
       "      <td>17.0</td>\n",
       "      <td>2889.0</td>\n",
       "      <td>624.0</td>\n",
       "      <td>2681.0</td>\n",
       "      <td>608.0</td>\n",
       "      <td>2.9417</td>\n",
       "      <td>178000.0</td>\n",
       "    </tr>\n",
       "    <tr>\n",
       "      <th>15104</th>\n",
       "      <td>-116.98</td>\n",
       "      <td>32.85</td>\n",
       "      <td>12.0</td>\n",
       "      <td>3570.0</td>\n",
       "      <td>713.0</td>\n",
       "      <td>3321.0</td>\n",
       "      <td>666.0</td>\n",
       "      <td>4.0882</td>\n",
       "      <td>134500.0</td>\n",
       "    </tr>\n",
       "    <tr>\n",
       "      <th>4657</th>\n",
       "      <td>-118.32</td>\n",
       "      <td>34.05</td>\n",
       "      <td>50.0</td>\n",
       "      <td>1389.0</td>\n",
       "      <td>364.0</td>\n",
       "      <td>976.0</td>\n",
       "      <td>302.0</td>\n",
       "      <td>1.5882</td>\n",
       "      <td>327300.0</td>\n",
       "    </tr>\n",
       "  </tbody>\n",
       "</table>\n",
       "</div>"
      ],
      "text/plain": [
       "       longitude  latitude  housing_median_age  total_rooms  total_bedrooms  \\\n",
       "13339    -117.66     34.03                14.0       2137.0           345.0   \n",
       "2590     -124.09     40.88                31.0       1982.0           495.0   \n",
       "18494    -121.57     37.02                17.0       2889.0           624.0   \n",
       "15104    -116.98     32.85                12.0       3570.0           713.0   \n",
       "4657     -118.32     34.05                50.0       1389.0           364.0   \n",
       "\n",
       "       population  households  median_income  median_house_value  \n",
       "13339      1151.0       352.0         5.7530            185500.0  \n",
       "2590       1052.0       467.0         1.5326             74100.0  \n",
       "18494      2681.0       608.0         2.9417            178000.0  \n",
       "15104      3321.0       666.0         4.0882            134500.0  \n",
       "4657        976.0       302.0         1.5882            327300.0  "
      ]
     },
     "execution_count": 15,
     "metadata": {},
     "output_type": "execute_result"
    }
   ],
   "source": [
    "#exlude dummies from test set\n",
    "test_set2=test_set.iloc[:,:9]\n",
    "test_set2.head()"
   ]
  },
  {
   "cell_type": "code",
   "execution_count": 16,
   "metadata": {},
   "outputs": [
    {
     "data": {
      "text/html": [
       "<div>\n",
       "<style scoped>\n",
       "    .dataframe tbody tr th:only-of-type {\n",
       "        vertical-align: middle;\n",
       "    }\n",
       "\n",
       "    .dataframe tbody tr th {\n",
       "        vertical-align: top;\n",
       "    }\n",
       "\n",
       "    .dataframe thead th {\n",
       "        text-align: right;\n",
       "    }\n",
       "</style>\n",
       "<table border=\"1\" class=\"dataframe\">\n",
       "  <thead>\n",
       "    <tr style=\"text-align: right;\">\n",
       "      <th></th>\n",
       "      <th>longitude</th>\n",
       "      <th>latitude</th>\n",
       "      <th>housing_median_age</th>\n",
       "      <th>total_rooms</th>\n",
       "      <th>total_bedrooms</th>\n",
       "      <th>population</th>\n",
       "      <th>households</th>\n",
       "      <th>median_income</th>\n",
       "      <th>median_house_value</th>\n",
       "    </tr>\n",
       "  </thead>\n",
       "  <tbody>\n",
       "    <tr>\n",
       "      <th>13339</th>\n",
       "      <td>0.675483</td>\n",
       "      <td>0.159871</td>\n",
       "      <td>0.254902</td>\n",
       "      <td>0.054156</td>\n",
       "      <td>0.053383</td>\n",
       "      <td>0.032040</td>\n",
       "      <td>0.057721</td>\n",
       "      <td>0.362278</td>\n",
       "      <td>0.351547</td>\n",
       "    </tr>\n",
       "    <tr>\n",
       "      <th>2590</th>\n",
       "      <td>0.021363</td>\n",
       "      <td>0.894850</td>\n",
       "      <td>0.588235</td>\n",
       "      <td>0.050214</td>\n",
       "      <td>0.076660</td>\n",
       "      <td>0.029265</td>\n",
       "      <td>0.076632</td>\n",
       "      <td>0.071220</td>\n",
       "      <td>0.121857</td>\n",
       "    </tr>\n",
       "    <tr>\n",
       "      <th>18494</th>\n",
       "      <td>0.277721</td>\n",
       "      <td>0.480687</td>\n",
       "      <td>0.313725</td>\n",
       "      <td>0.073286</td>\n",
       "      <td>0.096679</td>\n",
       "      <td>0.074929</td>\n",
       "      <td>0.099819</td>\n",
       "      <td>0.168398</td>\n",
       "      <td>0.336083</td>\n",
       "    </tr>\n",
       "    <tr>\n",
       "      <th>15104</th>\n",
       "      <td>0.744659</td>\n",
       "      <td>0.033262</td>\n",
       "      <td>0.215686</td>\n",
       "      <td>0.090608</td>\n",
       "      <td>0.110490</td>\n",
       "      <td>0.092869</td>\n",
       "      <td>0.109357</td>\n",
       "      <td>0.247466</td>\n",
       "      <td>0.246393</td>\n",
       "    </tr>\n",
       "    <tr>\n",
       "      <th>4657</th>\n",
       "      <td>0.608342</td>\n",
       "      <td>0.162017</td>\n",
       "      <td>0.960784</td>\n",
       "      <td>0.035129</td>\n",
       "      <td>0.056331</td>\n",
       "      <td>0.027135</td>\n",
       "      <td>0.049498</td>\n",
       "      <td>0.075054</td>\n",
       "      <td>0.643917</td>\n",
       "    </tr>\n",
       "  </tbody>\n",
       "</table>\n",
       "</div>"
      ],
      "text/plain": [
       "       longitude  latitude  housing_median_age  total_rooms  total_bedrooms  \\\n",
       "13339   0.675483  0.159871            0.254902     0.054156        0.053383   \n",
       "2590    0.021363  0.894850            0.588235     0.050214        0.076660   \n",
       "18494   0.277721  0.480687            0.313725     0.073286        0.096679   \n",
       "15104   0.744659  0.033262            0.215686     0.090608        0.110490   \n",
       "4657    0.608342  0.162017            0.960784     0.035129        0.056331   \n",
       "\n",
       "       population  households  median_income  median_house_value  \n",
       "13339    0.032040    0.057721       0.362278            0.351547  \n",
       "2590     0.029265    0.076632       0.071220            0.121857  \n",
       "18494    0.074929    0.099819       0.168398            0.336083  \n",
       "15104    0.092869    0.109357       0.247466            0.246393  \n",
       "4657     0.027135    0.049498       0.075054            0.643917  "
      ]
     },
     "execution_count": 16,
     "metadata": {},
     "output_type": "execute_result"
    }
   ],
   "source": [
    "#normalize test set without dummies\n",
    "test_set2 = (test_set2-training_set2.min())/(training_set2.max() - training_set2.min()) \n",
    "test_set2.head()"
   ]
  },
  {
   "cell_type": "code",
   "execution_count": 17,
   "metadata": {},
   "outputs": [
    {
     "data": {
      "text/plain": [
       "(longitude             1.016277\n",
       " latitude              1.009657\n",
       " housing_median_age    1.000000\n",
       " total_rooms           0.815171\n",
       " total_bedrooms        0.820764\n",
       " population            0.434462\n",
       " households            0.830291\n",
       " median_income         1.000000\n",
       " median_house_value    1.000000\n",
       " dtype: float64,\n",
       " longitude            -0.005086\n",
       " latitude              0.001073\n",
       " housing_median_age    0.000000\n",
       " total_rooms          -0.000153\n",
       " total_bedrooms        0.000155\n",
       " population           -0.000140\n",
       " households            0.000164\n",
       " median_income         0.000000\n",
       " median_house_value    0.000000\n",
       " dtype: float64)"
      ]
     },
     "execution_count": 17,
     "metadata": {},
     "output_type": "execute_result"
    }
   ],
   "source": [
    "#check \n",
    "test_set2.max(), test_set2.min()"
   ]
  },
  {
   "cell_type": "code",
   "execution_count": 18,
   "metadata": {
    "scrolled": true
   },
   "outputs": [
    {
     "data": {
      "text/html": [
       "<div>\n",
       "<style scoped>\n",
       "    .dataframe tbody tr th:only-of-type {\n",
       "        vertical-align: middle;\n",
       "    }\n",
       "\n",
       "    .dataframe tbody tr th {\n",
       "        vertical-align: top;\n",
       "    }\n",
       "\n",
       "    .dataframe thead th {\n",
       "        text-align: right;\n",
       "    }\n",
       "</style>\n",
       "<table border=\"1\" class=\"dataframe\">\n",
       "  <thead>\n",
       "    <tr style=\"text-align: right;\">\n",
       "      <th></th>\n",
       "      <th>longitude</th>\n",
       "      <th>latitude</th>\n",
       "      <th>housing_median_age</th>\n",
       "      <th>total_rooms</th>\n",
       "      <th>total_bedrooms</th>\n",
       "      <th>population</th>\n",
       "      <th>households</th>\n",
       "      <th>median_income</th>\n",
       "      <th>median_house_value</th>\n",
       "      <th>ocean_proximity_&lt;1H OCEAN</th>\n",
       "      <th>ocean_proximity_INLAND</th>\n",
       "      <th>ocean_proximity_ISLAND</th>\n",
       "      <th>ocean_proximity_NEAR BAY</th>\n",
       "      <th>ocean_proximity_NEAR OCEAN</th>\n",
       "    </tr>\n",
       "  </thead>\n",
       "  <tbody>\n",
       "    <tr>\n",
       "      <th>13339</th>\n",
       "      <td>0.675483</td>\n",
       "      <td>0.159871</td>\n",
       "      <td>0.254902</td>\n",
       "      <td>0.054156</td>\n",
       "      <td>0.053383</td>\n",
       "      <td>0.032040</td>\n",
       "      <td>0.057721</td>\n",
       "      <td>0.362278</td>\n",
       "      <td>0.351547</td>\n",
       "      <td>0</td>\n",
       "      <td>1</td>\n",
       "      <td>0</td>\n",
       "      <td>0</td>\n",
       "      <td>0</td>\n",
       "    </tr>\n",
       "    <tr>\n",
       "      <th>2590</th>\n",
       "      <td>0.021363</td>\n",
       "      <td>0.894850</td>\n",
       "      <td>0.588235</td>\n",
       "      <td>0.050214</td>\n",
       "      <td>0.076660</td>\n",
       "      <td>0.029265</td>\n",
       "      <td>0.076632</td>\n",
       "      <td>0.071220</td>\n",
       "      <td>0.121857</td>\n",
       "      <td>0</td>\n",
       "      <td>0</td>\n",
       "      <td>0</td>\n",
       "      <td>0</td>\n",
       "      <td>1</td>\n",
       "    </tr>\n",
       "    <tr>\n",
       "      <th>18494</th>\n",
       "      <td>0.277721</td>\n",
       "      <td>0.480687</td>\n",
       "      <td>0.313725</td>\n",
       "      <td>0.073286</td>\n",
       "      <td>0.096679</td>\n",
       "      <td>0.074929</td>\n",
       "      <td>0.099819</td>\n",
       "      <td>0.168398</td>\n",
       "      <td>0.336083</td>\n",
       "      <td>0</td>\n",
       "      <td>1</td>\n",
       "      <td>0</td>\n",
       "      <td>0</td>\n",
       "      <td>0</td>\n",
       "    </tr>\n",
       "    <tr>\n",
       "      <th>15104</th>\n",
       "      <td>0.744659</td>\n",
       "      <td>0.033262</td>\n",
       "      <td>0.215686</td>\n",
       "      <td>0.090608</td>\n",
       "      <td>0.110490</td>\n",
       "      <td>0.092869</td>\n",
       "      <td>0.109357</td>\n",
       "      <td>0.247466</td>\n",
       "      <td>0.246393</td>\n",
       "      <td>1</td>\n",
       "      <td>0</td>\n",
       "      <td>0</td>\n",
       "      <td>0</td>\n",
       "      <td>0</td>\n",
       "    </tr>\n",
       "    <tr>\n",
       "      <th>4657</th>\n",
       "      <td>0.608342</td>\n",
       "      <td>0.162017</td>\n",
       "      <td>0.960784</td>\n",
       "      <td>0.035129</td>\n",
       "      <td>0.056331</td>\n",
       "      <td>0.027135</td>\n",
       "      <td>0.049498</td>\n",
       "      <td>0.075054</td>\n",
       "      <td>0.643917</td>\n",
       "      <td>1</td>\n",
       "      <td>0</td>\n",
       "      <td>0</td>\n",
       "      <td>0</td>\n",
       "      <td>0</td>\n",
       "    </tr>\n",
       "  </tbody>\n",
       "</table>\n",
       "</div>"
      ],
      "text/plain": [
       "       longitude  latitude  housing_median_age  total_rooms  total_bedrooms  \\\n",
       "13339   0.675483  0.159871            0.254902     0.054156        0.053383   \n",
       "2590    0.021363  0.894850            0.588235     0.050214        0.076660   \n",
       "18494   0.277721  0.480687            0.313725     0.073286        0.096679   \n",
       "15104   0.744659  0.033262            0.215686     0.090608        0.110490   \n",
       "4657    0.608342  0.162017            0.960784     0.035129        0.056331   \n",
       "\n",
       "       population  households  median_income  median_house_value  \\\n",
       "13339    0.032040    0.057721       0.362278            0.351547   \n",
       "2590     0.029265    0.076632       0.071220            0.121857   \n",
       "18494    0.074929    0.099819       0.168398            0.336083   \n",
       "15104    0.092869    0.109357       0.247466            0.246393   \n",
       "4657     0.027135    0.049498       0.075054            0.643917   \n",
       "\n",
       "       ocean_proximity_<1H OCEAN  ocean_proximity_INLAND  \\\n",
       "13339                          0                       1   \n",
       "2590                           0                       0   \n",
       "18494                          0                       1   \n",
       "15104                          1                       0   \n",
       "4657                           1                       0   \n",
       "\n",
       "       ocean_proximity_ISLAND  ocean_proximity_NEAR BAY  \\\n",
       "13339                       0                         0   \n",
       "2590                        0                         0   \n",
       "18494                       0                         0   \n",
       "15104                       0                         0   \n",
       "4657                        0                         0   \n",
       "\n",
       "       ocean_proximity_NEAR OCEAN  \n",
       "13339                           0  \n",
       "2590                            1  \n",
       "18494                           0  \n",
       "15104                           0  \n",
       "4657                            0  "
      ]
     },
     "execution_count": 18,
     "metadata": {},
     "output_type": "execute_result"
    }
   ],
   "source": [
    "#copy normalized columns to original dataset\n",
    "test_set.iloc[:,:9] = test_set2\n",
    "test_set.head()"
   ]
  },
  {
   "cell_type": "code",
   "execution_count": 19,
   "metadata": {},
   "outputs": [
    {
     "data": {
      "text/html": [
       "<div>\n",
       "<style scoped>\n",
       "    .dataframe tbody tr th:only-of-type {\n",
       "        vertical-align: middle;\n",
       "    }\n",
       "\n",
       "    .dataframe tbody tr th {\n",
       "        vertical-align: top;\n",
       "    }\n",
       "\n",
       "    .dataframe thead th {\n",
       "        text-align: right;\n",
       "    }\n",
       "</style>\n",
       "<table border=\"1\" class=\"dataframe\">\n",
       "  <thead>\n",
       "    <tr style=\"text-align: right;\">\n",
       "      <th></th>\n",
       "      <th>longitude</th>\n",
       "      <th>latitude</th>\n",
       "      <th>housing_median_age</th>\n",
       "      <th>total_rooms</th>\n",
       "      <th>total_bedrooms</th>\n",
       "      <th>population</th>\n",
       "      <th>households</th>\n",
       "      <th>median_income</th>\n",
       "      <th>median_house_value</th>\n",
       "    </tr>\n",
       "  </thead>\n",
       "  <tbody>\n",
       "    <tr>\n",
       "      <th>20558</th>\n",
       "      <td>0.254323</td>\n",
       "      <td>0.657725</td>\n",
       "      <td>0.176471</td>\n",
       "      <td>0.052859</td>\n",
       "      <td>0.058814</td>\n",
       "      <td>0.029854</td>\n",
       "      <td>0.061996</td>\n",
       "      <td>0.279493</td>\n",
       "      <td>0.287424</td>\n",
       "    </tr>\n",
       "    <tr>\n",
       "      <th>11430</th>\n",
       "      <td>0.643947</td>\n",
       "      <td>0.120172</td>\n",
       "      <td>0.411765</td>\n",
       "      <td>0.099359</td>\n",
       "      <td>0.092955</td>\n",
       "      <td>0.052223</td>\n",
       "      <td>0.099655</td>\n",
       "      <td>0.369250</td>\n",
       "      <td>0.549484</td>\n",
       "    </tr>\n",
       "    <tr>\n",
       "      <th>2656</th>\n",
       "      <td>0.005086</td>\n",
       "      <td>0.830472</td>\n",
       "      <td>0.607843</td>\n",
       "      <td>0.036172</td>\n",
       "      <td>0.064867</td>\n",
       "      <td>0.011941</td>\n",
       "      <td>0.030587</td>\n",
       "      <td>0.099433</td>\n",
       "      <td>0.125981</td>\n",
       "    </tr>\n",
       "    <tr>\n",
       "      <th>14267</th>\n",
       "      <td>0.731434</td>\n",
       "      <td>0.016094</td>\n",
       "      <td>0.705882</td>\n",
       "      <td>0.060719</td>\n",
       "      <td>0.097145</td>\n",
       "      <td>0.069546</td>\n",
       "      <td>0.098339</td>\n",
       "      <td>0.075406</td>\n",
       "      <td>0.147012</td>\n",
       "    </tr>\n",
       "    <tr>\n",
       "      <th>3684</th>\n",
       "      <td>0.603255</td>\n",
       "      <td>0.179185</td>\n",
       "      <td>0.686275</td>\n",
       "      <td>0.035206</td>\n",
       "      <td>0.050435</td>\n",
       "      <td>0.032881</td>\n",
       "      <td>0.049663</td>\n",
       "      <td>0.183197</td>\n",
       "      <td>0.332784</td>\n",
       "    </tr>\n",
       "  </tbody>\n",
       "</table>\n",
       "</div>"
      ],
      "text/plain": [
       "       longitude  latitude  housing_median_age  total_rooms  total_bedrooms  \\\n",
       "20558   0.254323  0.657725            0.176471     0.052859        0.058814   \n",
       "11430   0.643947  0.120172            0.411765     0.099359        0.092955   \n",
       "2656    0.005086  0.830472            0.607843     0.036172        0.064867   \n",
       "14267   0.731434  0.016094            0.705882     0.060719        0.097145   \n",
       "3684    0.603255  0.179185            0.686275     0.035206        0.050435   \n",
       "\n",
       "       population  households  median_income  median_house_value  \n",
       "20558    0.029854    0.061996       0.279493            0.287424  \n",
       "11430    0.052223    0.099655       0.369250            0.549484  \n",
       "2656     0.011941    0.030587       0.099433            0.125981  \n",
       "14267    0.069546    0.098339       0.075406            0.147012  \n",
       "3684     0.032881    0.049663       0.183197            0.332784  "
      ]
     },
     "execution_count": 19,
     "metadata": {},
     "output_type": "execute_result"
    }
   ],
   "source": [
    "# normalize columns in the training set without dummies\n",
    "training_set2 = (training_set2-training_set2.min())/(training_set2.max() - training_set2.min()) # normalize columns in [0,1]\n",
    "training_set2.head()"
   ]
  },
  {
   "cell_type": "code",
   "execution_count": 20,
   "metadata": {},
   "outputs": [
    {
     "data": {
      "text/html": [
       "<div>\n",
       "<style scoped>\n",
       "    .dataframe tbody tr th:only-of-type {\n",
       "        vertical-align: middle;\n",
       "    }\n",
       "\n",
       "    .dataframe tbody tr th {\n",
       "        vertical-align: top;\n",
       "    }\n",
       "\n",
       "    .dataframe thead th {\n",
       "        text-align: right;\n",
       "    }\n",
       "</style>\n",
       "<table border=\"1\" class=\"dataframe\">\n",
       "  <thead>\n",
       "    <tr style=\"text-align: right;\">\n",
       "      <th></th>\n",
       "      <th>longitude</th>\n",
       "      <th>latitude</th>\n",
       "      <th>housing_median_age</th>\n",
       "      <th>total_rooms</th>\n",
       "      <th>total_bedrooms</th>\n",
       "      <th>population</th>\n",
       "      <th>households</th>\n",
       "      <th>median_income</th>\n",
       "      <th>median_house_value</th>\n",
       "      <th>ocean_proximity_&lt;1H OCEAN</th>\n",
       "      <th>ocean_proximity_INLAND</th>\n",
       "      <th>ocean_proximity_ISLAND</th>\n",
       "      <th>ocean_proximity_NEAR BAY</th>\n",
       "      <th>ocean_proximity_NEAR OCEAN</th>\n",
       "    </tr>\n",
       "  </thead>\n",
       "  <tbody>\n",
       "    <tr>\n",
       "      <th>20558</th>\n",
       "      <td>0.254323</td>\n",
       "      <td>0.657725</td>\n",
       "      <td>0.176471</td>\n",
       "      <td>0.052859</td>\n",
       "      <td>0.058814</td>\n",
       "      <td>0.029854</td>\n",
       "      <td>0.061996</td>\n",
       "      <td>0.279493</td>\n",
       "      <td>0.287424</td>\n",
       "      <td>0</td>\n",
       "      <td>1</td>\n",
       "      <td>0</td>\n",
       "      <td>0</td>\n",
       "      <td>0</td>\n",
       "    </tr>\n",
       "    <tr>\n",
       "      <th>11430</th>\n",
       "      <td>0.643947</td>\n",
       "      <td>0.120172</td>\n",
       "      <td>0.411765</td>\n",
       "      <td>0.099359</td>\n",
       "      <td>0.092955</td>\n",
       "      <td>0.052223</td>\n",
       "      <td>0.099655</td>\n",
       "      <td>0.369250</td>\n",
       "      <td>0.549484</td>\n",
       "      <td>1</td>\n",
       "      <td>0</td>\n",
       "      <td>0</td>\n",
       "      <td>0</td>\n",
       "      <td>0</td>\n",
       "    </tr>\n",
       "    <tr>\n",
       "      <th>2656</th>\n",
       "      <td>0.005086</td>\n",
       "      <td>0.830472</td>\n",
       "      <td>0.607843</td>\n",
       "      <td>0.036172</td>\n",
       "      <td>0.064867</td>\n",
       "      <td>0.011941</td>\n",
       "      <td>0.030587</td>\n",
       "      <td>0.099433</td>\n",
       "      <td>0.125981</td>\n",
       "      <td>0</td>\n",
       "      <td>0</td>\n",
       "      <td>0</td>\n",
       "      <td>0</td>\n",
       "      <td>1</td>\n",
       "    </tr>\n",
       "    <tr>\n",
       "      <th>14267</th>\n",
       "      <td>0.731434</td>\n",
       "      <td>0.016094</td>\n",
       "      <td>0.705882</td>\n",
       "      <td>0.060719</td>\n",
       "      <td>0.097145</td>\n",
       "      <td>0.069546</td>\n",
       "      <td>0.098339</td>\n",
       "      <td>0.075406</td>\n",
       "      <td>0.147012</td>\n",
       "      <td>0</td>\n",
       "      <td>0</td>\n",
       "      <td>0</td>\n",
       "      <td>0</td>\n",
       "      <td>1</td>\n",
       "    </tr>\n",
       "    <tr>\n",
       "      <th>3684</th>\n",
       "      <td>0.603255</td>\n",
       "      <td>0.179185</td>\n",
       "      <td>0.686275</td>\n",
       "      <td>0.035206</td>\n",
       "      <td>0.050435</td>\n",
       "      <td>0.032881</td>\n",
       "      <td>0.049663</td>\n",
       "      <td>0.183197</td>\n",
       "      <td>0.332784</td>\n",
       "      <td>1</td>\n",
       "      <td>0</td>\n",
       "      <td>0</td>\n",
       "      <td>0</td>\n",
       "      <td>0</td>\n",
       "    </tr>\n",
       "  </tbody>\n",
       "</table>\n",
       "</div>"
      ],
      "text/plain": [
       "       longitude  latitude  housing_median_age  total_rooms  total_bedrooms  \\\n",
       "20558   0.254323  0.657725            0.176471     0.052859        0.058814   \n",
       "11430   0.643947  0.120172            0.411765     0.099359        0.092955   \n",
       "2656    0.005086  0.830472            0.607843     0.036172        0.064867   \n",
       "14267   0.731434  0.016094            0.705882     0.060719        0.097145   \n",
       "3684    0.603255  0.179185            0.686275     0.035206        0.050435   \n",
       "\n",
       "       population  households  median_income  median_house_value  \\\n",
       "20558    0.029854    0.061996       0.279493            0.287424   \n",
       "11430    0.052223    0.099655       0.369250            0.549484   \n",
       "2656     0.011941    0.030587       0.099433            0.125981   \n",
       "14267    0.069546    0.098339       0.075406            0.147012   \n",
       "3684     0.032881    0.049663       0.183197            0.332784   \n",
       "\n",
       "       ocean_proximity_<1H OCEAN  ocean_proximity_INLAND  \\\n",
       "20558                          0                       1   \n",
       "11430                          1                       0   \n",
       "2656                           0                       0   \n",
       "14267                          0                       0   \n",
       "3684                           1                       0   \n",
       "\n",
       "       ocean_proximity_ISLAND  ocean_proximity_NEAR BAY  \\\n",
       "20558                       0                         0   \n",
       "11430                       0                         0   \n",
       "2656                        0                         0   \n",
       "14267                       0                         0   \n",
       "3684                        0                         0   \n",
       "\n",
       "       ocean_proximity_NEAR OCEAN  \n",
       "20558                           0  \n",
       "11430                           0  \n",
       "2656                            1  \n",
       "14267                           1  \n",
       "3684                            0  "
      ]
     },
     "execution_count": 20,
     "metadata": {},
     "output_type": "execute_result"
    }
   ],
   "source": [
    "#copy normalized column in the original dataset\n",
    "training_set.iloc[:,:9] = training_set2\n",
    "training_set.head()"
   ]
  },
  {
   "cell_type": "code",
   "execution_count": 21,
   "metadata": {},
   "outputs": [
    {
     "data": {
      "text/plain": [
       "(longitude                     0.0\n",
       " latitude                      0.0\n",
       " housing_median_age            0.0\n",
       " total_rooms                   0.0\n",
       " total_bedrooms                0.0\n",
       " population                    0.0\n",
       " households                    0.0\n",
       " median_income                 0.0\n",
       " median_house_value            0.0\n",
       " ocean_proximity_<1H OCEAN     0.0\n",
       " ocean_proximity_INLAND        0.0\n",
       " ocean_proximity_ISLAND        0.0\n",
       " ocean_proximity_NEAR BAY      0.0\n",
       " ocean_proximity_NEAR OCEAN    0.0\n",
       " dtype: float64,\n",
       " longitude                     1.0\n",
       " latitude                      1.0\n",
       " housing_median_age            1.0\n",
       " total_rooms                   1.0\n",
       " total_bedrooms                1.0\n",
       " population                    1.0\n",
       " households                    1.0\n",
       " median_income                 1.0\n",
       " median_house_value            1.0\n",
       " ocean_proximity_<1H OCEAN     1.0\n",
       " ocean_proximity_INLAND        1.0\n",
       " ocean_proximity_ISLAND        1.0\n",
       " ocean_proximity_NEAR BAY      1.0\n",
       " ocean_proximity_NEAR OCEAN    1.0\n",
       " dtype: float64,\n",
       " longitude                    -0.005086\n",
       " latitude                      0.001073\n",
       " housing_median_age            0.000000\n",
       " total_rooms                  -0.000153\n",
       " total_bedrooms                0.000155\n",
       " population                   -0.000140\n",
       " households                    0.000164\n",
       " median_income                 0.000000\n",
       " median_house_value            0.000000\n",
       " ocean_proximity_<1H OCEAN     0.000000\n",
       " ocean_proximity_INLAND        0.000000\n",
       " ocean_proximity_ISLAND        0.000000\n",
       " ocean_proximity_NEAR BAY      0.000000\n",
       " ocean_proximity_NEAR OCEAN    0.000000\n",
       " dtype: float64,\n",
       " longitude                     1.016277\n",
       " latitude                      1.009657\n",
       " housing_median_age            1.000000\n",
       " total_rooms                   0.815171\n",
       " total_bedrooms                0.820764\n",
       " population                    0.434462\n",
       " households                    0.830291\n",
       " median_income                 1.000000\n",
       " median_house_value            1.000000\n",
       " ocean_proximity_<1H OCEAN     1.000000\n",
       " ocean_proximity_INLAND        1.000000\n",
       " ocean_proximity_ISLAND        1.000000\n",
       " ocean_proximity_NEAR BAY      1.000000\n",
       " ocean_proximity_NEAR OCEAN    1.000000\n",
       " dtype: float64)"
      ]
     },
     "execution_count": 21,
     "metadata": {},
     "output_type": "execute_result"
    }
   ],
   "source": [
    "#check \n",
    "training_set.min(), training_set.max(), test_set.min(), test_set.max()"
   ]
  },
  {
   "cell_type": "code",
   "execution_count": 30,
   "metadata": {},
   "outputs": [
    {
     "data": {
      "text/html": [
       "<div>\n",
       "<style scoped>\n",
       "    .dataframe tbody tr th:only-of-type {\n",
       "        vertical-align: middle;\n",
       "    }\n",
       "\n",
       "    .dataframe tbody tr th {\n",
       "        vertical-align: top;\n",
       "    }\n",
       "\n",
       "    .dataframe thead th {\n",
       "        text-align: right;\n",
       "    }\n",
       "</style>\n",
       "<table border=\"1\" class=\"dataframe\">\n",
       "  <thead>\n",
       "    <tr style=\"text-align: right;\">\n",
       "      <th></th>\n",
       "      <th>longitude</th>\n",
       "      <th>latitude</th>\n",
       "      <th>housing_median_age</th>\n",
       "      <th>total_rooms</th>\n",
       "      <th>total_bedrooms</th>\n",
       "      <th>population</th>\n",
       "      <th>households</th>\n",
       "      <th>median_income</th>\n",
       "      <th>median_house_value</th>\n",
       "      <th>ocean_proximity_&lt;1H OCEAN</th>\n",
       "      <th>ocean_proximity_INLAND</th>\n",
       "      <th>ocean_proximity_ISLAND</th>\n",
       "      <th>ocean_proximity_NEAR BAY</th>\n",
       "      <th>ocean_proximity_NEAR OCEAN</th>\n",
       "    </tr>\n",
       "  </thead>\n",
       "  <tbody>\n",
       "    <tr>\n",
       "      <th>longitude</th>\n",
       "      <td>1.000000</td>\n",
       "      <td>-0.924656</td>\n",
       "      <td>-0.102673</td>\n",
       "      <td>0.031489</td>\n",
       "      <td>0.058545</td>\n",
       "      <td>0.087049</td>\n",
       "      <td>0.043488</td>\n",
       "      <td>-0.020089</td>\n",
       "      <td>-0.053923</td>\n",
       "      <td>0.319265</td>\n",
       "      <td>-0.055016</td>\n",
       "      <td>0.009713</td>\n",
       "      <td>-0.475784</td>\n",
       "      <td>0.048649</td>\n",
       "    </tr>\n",
       "    <tr>\n",
       "      <th>latitude</th>\n",
       "      <td>-0.924656</td>\n",
       "      <td>1.000000</td>\n",
       "      <td>0.004882</td>\n",
       "      <td>-0.022602</td>\n",
       "      <td>-0.055525</td>\n",
       "      <td>-0.095070</td>\n",
       "      <td>-0.059087</td>\n",
       "      <td>-0.072366</td>\n",
       "      <td>-0.134522</td>\n",
       "      <td>-0.445981</td>\n",
       "      <td>0.350757</td>\n",
       "      <td>-0.016780</td>\n",
       "      <td>0.360759</td>\n",
       "      <td>-0.164586</td>\n",
       "    </tr>\n",
       "    <tr>\n",
       "      <th>housing_median_age</th>\n",
       "      <td>-0.102673</td>\n",
       "      <td>0.004882</td>\n",
       "      <td>1.000000</td>\n",
       "      <td>-0.365385</td>\n",
       "      <td>-0.322256</td>\n",
       "      <td>-0.293164</td>\n",
       "      <td>-0.305998</td>\n",
       "      <td>-0.122487</td>\n",
       "      <td>0.105187</td>\n",
       "      <td>0.047472</td>\n",
       "      <td>-0.242831</td>\n",
       "      <td>0.028961</td>\n",
       "      <td>0.256651</td>\n",
       "      <td>0.025627</td>\n",
       "    </tr>\n",
       "    <tr>\n",
       "      <th>total_rooms</th>\n",
       "      <td>0.031489</td>\n",
       "      <td>-0.022602</td>\n",
       "      <td>-0.365385</td>\n",
       "      <td>1.000000</td>\n",
       "      <td>0.925057</td>\n",
       "      <td>0.850026</td>\n",
       "      <td>0.916848</td>\n",
       "      <td>0.199769</td>\n",
       "      <td>0.139703</td>\n",
       "      <td>-0.008738</td>\n",
       "      <td>0.032927</td>\n",
       "      <td>-0.005927</td>\n",
       "      <td>-0.021436</td>\n",
       "      <td>-0.012547</td>\n",
       "    </tr>\n",
       "    <tr>\n",
       "      <th>total_bedrooms</th>\n",
       "      <td>0.058545</td>\n",
       "      <td>-0.055525</td>\n",
       "      <td>-0.322256</td>\n",
       "      <td>0.925057</td>\n",
       "      <td>1.000000</td>\n",
       "      <td>0.865660</td>\n",
       "      <td>0.972584</td>\n",
       "      <td>-0.009175</td>\n",
       "      <td>0.052594</td>\n",
       "      <td>0.012933</td>\n",
       "      <td>-0.000075</td>\n",
       "      <td>-0.003136</td>\n",
       "      <td>-0.018637</td>\n",
       "      <td>-0.001478</td>\n",
       "    </tr>\n",
       "    <tr>\n",
       "      <th>population</th>\n",
       "      <td>0.087049</td>\n",
       "      <td>-0.095070</td>\n",
       "      <td>-0.293164</td>\n",
       "      <td>0.850026</td>\n",
       "      <td>0.865660</td>\n",
       "      <td>1.000000</td>\n",
       "      <td>0.902337</td>\n",
       "      <td>0.003278</td>\n",
       "      <td>-0.019979</td>\n",
       "      <td>0.071316</td>\n",
       "      <td>-0.016401</td>\n",
       "      <td>-0.009575</td>\n",
       "      <td>-0.057339</td>\n",
       "      <td>-0.028960</td>\n",
       "    </tr>\n",
       "    <tr>\n",
       "      <th>households</th>\n",
       "      <td>0.043488</td>\n",
       "      <td>-0.059087</td>\n",
       "      <td>-0.305998</td>\n",
       "      <td>0.916848</td>\n",
       "      <td>0.972584</td>\n",
       "      <td>0.902337</td>\n",
       "      <td>1.000000</td>\n",
       "      <td>0.011308</td>\n",
       "      <td>0.068906</td>\n",
       "      <td>0.038645</td>\n",
       "      <td>-0.033837</td>\n",
       "      <td>-0.008483</td>\n",
       "      <td>-0.008265</td>\n",
       "      <td>-0.002131</td>\n",
       "    </tr>\n",
       "    <tr>\n",
       "      <th>median_income</th>\n",
       "      <td>-0.020089</td>\n",
       "      <td>-0.072366</td>\n",
       "      <td>-0.122487</td>\n",
       "      <td>0.199769</td>\n",
       "      <td>-0.009175</td>\n",
       "      <td>0.003278</td>\n",
       "      <td>0.011308</td>\n",
       "      <td>1.000000</td>\n",
       "      <td>0.685830</td>\n",
       "      <td>0.165965</td>\n",
       "      <td>-0.230533</td>\n",
       "      <td>-0.007333</td>\n",
       "      <td>0.055413</td>\n",
       "      <td>0.023017</td>\n",
       "    </tr>\n",
       "    <tr>\n",
       "      <th>median_house_value</th>\n",
       "      <td>-0.053923</td>\n",
       "      <td>-0.134522</td>\n",
       "      <td>0.105187</td>\n",
       "      <td>0.139703</td>\n",
       "      <td>0.052594</td>\n",
       "      <td>-0.019979</td>\n",
       "      <td>0.068906</td>\n",
       "      <td>0.685830</td>\n",
       "      <td>1.000000</td>\n",
       "      <td>0.248250</td>\n",
       "      <td>-0.478093</td>\n",
       "      <td>0.024629</td>\n",
       "      <td>0.162228</td>\n",
       "      <td>0.144412</td>\n",
       "    </tr>\n",
       "    <tr>\n",
       "      <th>ocean_proximity_&lt;1H OCEAN</th>\n",
       "      <td>0.319265</td>\n",
       "      <td>-0.445981</td>\n",
       "      <td>0.047472</td>\n",
       "      <td>-0.008738</td>\n",
       "      <td>0.012933</td>\n",
       "      <td>0.071316</td>\n",
       "      <td>0.038645</td>\n",
       "      <td>0.165965</td>\n",
       "      <td>0.248250</td>\n",
       "      <td>1.000000</td>\n",
       "      <td>-0.610211</td>\n",
       "      <td>-0.013898</td>\n",
       "      <td>-0.315143</td>\n",
       "      <td>-0.340561</td>\n",
       "    </tr>\n",
       "    <tr>\n",
       "      <th>ocean_proximity_INLAND</th>\n",
       "      <td>-0.055016</td>\n",
       "      <td>0.350757</td>\n",
       "      <td>-0.242831</td>\n",
       "      <td>0.032927</td>\n",
       "      <td>-0.000075</td>\n",
       "      <td>-0.016401</td>\n",
       "      <td>-0.033837</td>\n",
       "      <td>-0.230533</td>\n",
       "      <td>-0.478093</td>\n",
       "      <td>-0.610211</td>\n",
       "      <td>1.000000</td>\n",
       "      <td>-0.010639</td>\n",
       "      <td>-0.241246</td>\n",
       "      <td>-0.260704</td>\n",
       "    </tr>\n",
       "    <tr>\n",
       "      <th>ocean_proximity_ISLAND</th>\n",
       "      <td>0.009713</td>\n",
       "      <td>-0.016780</td>\n",
       "      <td>0.028961</td>\n",
       "      <td>-0.005927</td>\n",
       "      <td>-0.003136</td>\n",
       "      <td>-0.009575</td>\n",
       "      <td>-0.008483</td>\n",
       "      <td>-0.007333</td>\n",
       "      <td>0.024629</td>\n",
       "      <td>-0.013898</td>\n",
       "      <td>-0.010639</td>\n",
       "      <td>1.000000</td>\n",
       "      <td>-0.005494</td>\n",
       "      <td>-0.005938</td>\n",
       "    </tr>\n",
       "    <tr>\n",
       "      <th>ocean_proximity_NEAR BAY</th>\n",
       "      <td>-0.475784</td>\n",
       "      <td>0.360759</td>\n",
       "      <td>0.256651</td>\n",
       "      <td>-0.021436</td>\n",
       "      <td>-0.018637</td>\n",
       "      <td>-0.057339</td>\n",
       "      <td>-0.008265</td>\n",
       "      <td>0.055413</td>\n",
       "      <td>0.162228</td>\n",
       "      <td>-0.315143</td>\n",
       "      <td>-0.241246</td>\n",
       "      <td>-0.005494</td>\n",
       "      <td>1.000000</td>\n",
       "      <td>-0.134640</td>\n",
       "    </tr>\n",
       "    <tr>\n",
       "      <th>ocean_proximity_NEAR OCEAN</th>\n",
       "      <td>0.048649</td>\n",
       "      <td>-0.164586</td>\n",
       "      <td>0.025627</td>\n",
       "      <td>-0.012547</td>\n",
       "      <td>-0.001478</td>\n",
       "      <td>-0.028960</td>\n",
       "      <td>-0.002131</td>\n",
       "      <td>0.023017</td>\n",
       "      <td>0.144412</td>\n",
       "      <td>-0.340561</td>\n",
       "      <td>-0.260704</td>\n",
       "      <td>-0.005938</td>\n",
       "      <td>-0.134640</td>\n",
       "      <td>1.000000</td>\n",
       "    </tr>\n",
       "  </tbody>\n",
       "</table>\n",
       "</div>"
      ],
      "text/plain": [
       "                            longitude  latitude  housing_median_age  \\\n",
       "longitude                    1.000000 -0.924656           -0.102673   \n",
       "latitude                    -0.924656  1.000000            0.004882   \n",
       "housing_median_age          -0.102673  0.004882            1.000000   \n",
       "total_rooms                  0.031489 -0.022602           -0.365385   \n",
       "total_bedrooms               0.058545 -0.055525           -0.322256   \n",
       "population                   0.087049 -0.095070           -0.293164   \n",
       "households                   0.043488 -0.059087           -0.305998   \n",
       "median_income               -0.020089 -0.072366           -0.122487   \n",
       "median_house_value          -0.053923 -0.134522            0.105187   \n",
       "ocean_proximity_<1H OCEAN    0.319265 -0.445981            0.047472   \n",
       "ocean_proximity_INLAND      -0.055016  0.350757           -0.242831   \n",
       "ocean_proximity_ISLAND       0.009713 -0.016780            0.028961   \n",
       "ocean_proximity_NEAR BAY    -0.475784  0.360759            0.256651   \n",
       "ocean_proximity_NEAR OCEAN   0.048649 -0.164586            0.025627   \n",
       "\n",
       "                            total_rooms  total_bedrooms  population  \\\n",
       "longitude                      0.031489        0.058545    0.087049   \n",
       "latitude                      -0.022602       -0.055525   -0.095070   \n",
       "housing_median_age            -0.365385       -0.322256   -0.293164   \n",
       "total_rooms                    1.000000        0.925057    0.850026   \n",
       "total_bedrooms                 0.925057        1.000000    0.865660   \n",
       "population                     0.850026        0.865660    1.000000   \n",
       "households                     0.916848        0.972584    0.902337   \n",
       "median_income                  0.199769       -0.009175    0.003278   \n",
       "median_house_value             0.139703        0.052594   -0.019979   \n",
       "ocean_proximity_<1H OCEAN     -0.008738        0.012933    0.071316   \n",
       "ocean_proximity_INLAND         0.032927       -0.000075   -0.016401   \n",
       "ocean_proximity_ISLAND        -0.005927       -0.003136   -0.009575   \n",
       "ocean_proximity_NEAR BAY      -0.021436       -0.018637   -0.057339   \n",
       "ocean_proximity_NEAR OCEAN    -0.012547       -0.001478   -0.028960   \n",
       "\n",
       "                            households  median_income  median_house_value  \\\n",
       "longitude                     0.043488      -0.020089           -0.053923   \n",
       "latitude                     -0.059087      -0.072366           -0.134522   \n",
       "housing_median_age           -0.305998      -0.122487            0.105187   \n",
       "total_rooms                   0.916848       0.199769            0.139703   \n",
       "total_bedrooms                0.972584      -0.009175            0.052594   \n",
       "population                    0.902337       0.003278           -0.019979   \n",
       "households                    1.000000       0.011308            0.068906   \n",
       "median_income                 0.011308       1.000000            0.685830   \n",
       "median_house_value            0.068906       0.685830            1.000000   \n",
       "ocean_proximity_<1H OCEAN     0.038645       0.165965            0.248250   \n",
       "ocean_proximity_INLAND       -0.033837      -0.230533           -0.478093   \n",
       "ocean_proximity_ISLAND       -0.008483      -0.007333            0.024629   \n",
       "ocean_proximity_NEAR BAY     -0.008265       0.055413            0.162228   \n",
       "ocean_proximity_NEAR OCEAN   -0.002131       0.023017            0.144412   \n",
       "\n",
       "                            ocean_proximity_<1H OCEAN  ocean_proximity_INLAND  \\\n",
       "longitude                                    0.319265               -0.055016   \n",
       "latitude                                    -0.445981                0.350757   \n",
       "housing_median_age                           0.047472               -0.242831   \n",
       "total_rooms                                 -0.008738                0.032927   \n",
       "total_bedrooms                               0.012933               -0.000075   \n",
       "population                                   0.071316               -0.016401   \n",
       "households                                   0.038645               -0.033837   \n",
       "median_income                                0.165965               -0.230533   \n",
       "median_house_value                           0.248250               -0.478093   \n",
       "ocean_proximity_<1H OCEAN                    1.000000               -0.610211   \n",
       "ocean_proximity_INLAND                      -0.610211                1.000000   \n",
       "ocean_proximity_ISLAND                      -0.013898               -0.010639   \n",
       "ocean_proximity_NEAR BAY                    -0.315143               -0.241246   \n",
       "ocean_proximity_NEAR OCEAN                  -0.340561               -0.260704   \n",
       "\n",
       "                            ocean_proximity_ISLAND  ocean_proximity_NEAR BAY  \\\n",
       "longitude                                 0.009713                 -0.475784   \n",
       "latitude                                 -0.016780                  0.360759   \n",
       "housing_median_age                        0.028961                  0.256651   \n",
       "total_rooms                              -0.005927                 -0.021436   \n",
       "total_bedrooms                           -0.003136                 -0.018637   \n",
       "population                               -0.009575                 -0.057339   \n",
       "households                               -0.008483                 -0.008265   \n",
       "median_income                            -0.007333                  0.055413   \n",
       "median_house_value                        0.024629                  0.162228   \n",
       "ocean_proximity_<1H OCEAN                -0.013898                 -0.315143   \n",
       "ocean_proximity_INLAND                   -0.010639                 -0.241246   \n",
       "ocean_proximity_ISLAND                    1.000000                 -0.005494   \n",
       "ocean_proximity_NEAR BAY                 -0.005494                  1.000000   \n",
       "ocean_proximity_NEAR OCEAN               -0.005938                 -0.134640   \n",
       "\n",
       "                            ocean_proximity_NEAR OCEAN  \n",
       "longitude                                     0.048649  \n",
       "latitude                                     -0.164586  \n",
       "housing_median_age                            0.025627  \n",
       "total_rooms                                  -0.012547  \n",
       "total_bedrooms                               -0.001478  \n",
       "population                                   -0.028960  \n",
       "households                                   -0.002131  \n",
       "median_income                                 0.023017  \n",
       "median_house_value                            0.144412  \n",
       "ocean_proximity_<1H OCEAN                    -0.340561  \n",
       "ocean_proximity_INLAND                       -0.260704  \n",
       "ocean_proximity_ISLAND                       -0.005938  \n",
       "ocean_proximity_NEAR BAY                     -0.134640  \n",
       "ocean_proximity_NEAR OCEAN                    1.000000  "
      ]
     },
     "execution_count": 30,
     "metadata": {},
     "output_type": "execute_result"
    }
   ],
   "source": [
    "#run the corr function in order to identify the correlation between variables \n",
    "training_set.corr()"
   ]
  },
  {
   "cell_type": "code",
   "execution_count": 31,
   "metadata": {
    "scrolled": false
   },
   "outputs": [
    {
     "data": {
      "image/png": "[encoded data removed]",
      "text/plain": [
       "<Figure size 864x864 with 2 Axes>"
      ]
     },
     "metadata": {
      "needs_background": "light"
     },
     "output_type": "display_data"
    }
   ],
   "source": [
    "#visualization\n",
    "import seaborn as sns\n",
    "corr=training_set.corr()\n",
    "plt.figure(figsize=(12, 12))\n",
    "sns.heatmap(corr, vmax=.8, linewidths=0.01,\n",
    "            square=True,annot=True,cmap='Greys',linecolor=\"black\")\n",
    "plt.title('Pairwise Correlation');"
   ]
  },
  {
   "cell_type": "code",
   "execution_count": 32,
   "metadata": {},
   "outputs": [
    {
     "data": {
      "text/html": [
       "<div>\n",
       "<style scoped>\n",
       "    .dataframe tbody tr th:only-of-type {\n",
       "        vertical-align: middle;\n",
       "    }\n",
       "\n",
       "    .dataframe tbody tr th {\n",
       "        vertical-align: top;\n",
       "    }\n",
       "\n",
       "    .dataframe thead th {\n",
       "        text-align: right;\n",
       "    }\n",
       "</style>\n",
       "<table border=\"1\" class=\"dataframe\">\n",
       "  <thead>\n",
       "    <tr style=\"text-align: right;\">\n",
       "      <th></th>\n",
       "      <th>longitude</th>\n",
       "      <th>latitude</th>\n",
       "      <th>housing_median_age</th>\n",
       "      <th>total_rooms</th>\n",
       "      <th>total_bedrooms</th>\n",
       "      <th>population</th>\n",
       "      <th>households</th>\n",
       "      <th>median_income</th>\n",
       "      <th>median_house_value</th>\n",
       "      <th>ocean_proximity_&lt;1H OCEAN</th>\n",
       "      <th>ocean_proximity_INLAND</th>\n",
       "      <th>ocean_proximity_ISLAND</th>\n",
       "      <th>ocean_proximity_NEAR BAY</th>\n",
       "      <th>ocean_proximity_NEAR OCEAN</th>\n",
       "    </tr>\n",
       "  </thead>\n",
       "  <tbody>\n",
       "    <tr>\n",
       "      <th>longitude</th>\n",
       "      <td>NaN</td>\n",
       "      <td>-0.924656</td>\n",
       "      <td>NaN</td>\n",
       "      <td>NaN</td>\n",
       "      <td>NaN</td>\n",
       "      <td>NaN</td>\n",
       "      <td>NaN</td>\n",
       "      <td>NaN</td>\n",
       "      <td>NaN</td>\n",
       "      <td>NaN</td>\n",
       "      <td>NaN</td>\n",
       "      <td>NaN</td>\n",
       "      <td>NaN</td>\n",
       "      <td>NaN</td>\n",
       "    </tr>\n",
       "    <tr>\n",
       "      <th>latitude</th>\n",
       "      <td>-0.924656</td>\n",
       "      <td>NaN</td>\n",
       "      <td>NaN</td>\n",
       "      <td>NaN</td>\n",
       "      <td>NaN</td>\n",
       "      <td>NaN</td>\n",
       "      <td>NaN</td>\n",
       "      <td>NaN</td>\n",
       "      <td>NaN</td>\n",
       "      <td>NaN</td>\n",
       "      <td>NaN</td>\n",
       "      <td>NaN</td>\n",
       "      <td>NaN</td>\n",
       "      <td>NaN</td>\n",
       "    </tr>\n",
       "    <tr>\n",
       "      <th>total_rooms</th>\n",
       "      <td>NaN</td>\n",
       "      <td>NaN</td>\n",
       "      <td>NaN</td>\n",
       "      <td>NaN</td>\n",
       "      <td>0.925057</td>\n",
       "      <td>0.850026</td>\n",
       "      <td>0.916848</td>\n",
       "      <td>NaN</td>\n",
       "      <td>NaN</td>\n",
       "      <td>NaN</td>\n",
       "      <td>NaN</td>\n",
       "      <td>NaN</td>\n",
       "      <td>NaN</td>\n",
       "      <td>NaN</td>\n",
       "    </tr>\n",
       "    <tr>\n",
       "      <th>total_bedrooms</th>\n",
       "      <td>NaN</td>\n",
       "      <td>NaN</td>\n",
       "      <td>NaN</td>\n",
       "      <td>0.925057</td>\n",
       "      <td>NaN</td>\n",
       "      <td>0.865660</td>\n",
       "      <td>0.972584</td>\n",
       "      <td>NaN</td>\n",
       "      <td>NaN</td>\n",
       "      <td>NaN</td>\n",
       "      <td>NaN</td>\n",
       "      <td>NaN</td>\n",
       "      <td>NaN</td>\n",
       "      <td>NaN</td>\n",
       "    </tr>\n",
       "    <tr>\n",
       "      <th>population</th>\n",
       "      <td>NaN</td>\n",
       "      <td>NaN</td>\n",
       "      <td>NaN</td>\n",
       "      <td>0.850026</td>\n",
       "      <td>0.865660</td>\n",
       "      <td>NaN</td>\n",
       "      <td>0.902337</td>\n",
       "      <td>NaN</td>\n",
       "      <td>NaN</td>\n",
       "      <td>NaN</td>\n",
       "      <td>NaN</td>\n",
       "      <td>NaN</td>\n",
       "      <td>NaN</td>\n",
       "      <td>NaN</td>\n",
       "    </tr>\n",
       "    <tr>\n",
       "      <th>households</th>\n",
       "      <td>NaN</td>\n",
       "      <td>NaN</td>\n",
       "      <td>NaN</td>\n",
       "      <td>0.916848</td>\n",
       "      <td>0.972584</td>\n",
       "      <td>0.902337</td>\n",
       "      <td>NaN</td>\n",
       "      <td>NaN</td>\n",
       "      <td>NaN</td>\n",
       "      <td>NaN</td>\n",
       "      <td>NaN</td>\n",
       "      <td>NaN</td>\n",
       "      <td>NaN</td>\n",
       "      <td>NaN</td>\n",
       "    </tr>\n",
       "  </tbody>\n",
       "</table>\n",
       "</div>"
      ],
      "text/plain": [
       "                longitude  latitude  housing_median_age  total_rooms  \\\n",
       "longitude             NaN -0.924656                 NaN          NaN   \n",
       "latitude        -0.924656       NaN                 NaN          NaN   \n",
       "total_rooms           NaN       NaN                 NaN          NaN   \n",
       "total_bedrooms        NaN       NaN                 NaN     0.925057   \n",
       "population            NaN       NaN                 NaN     0.850026   \n",
       "households            NaN       NaN                 NaN     0.916848   \n",
       "\n",
       "                total_bedrooms  population  households  median_income  \\\n",
       "longitude                  NaN         NaN         NaN            NaN   \n",
       "latitude                   NaN         NaN         NaN            NaN   \n",
       "total_rooms           0.925057    0.850026    0.916848            NaN   \n",
       "total_bedrooms             NaN    0.865660    0.972584            NaN   \n",
       "population            0.865660         NaN    0.902337            NaN   \n",
       "households            0.972584    0.902337         NaN            NaN   \n",
       "\n",
       "                median_house_value  ocean_proximity_<1H OCEAN  \\\n",
       "longitude                      NaN                        NaN   \n",
       "latitude                       NaN                        NaN   \n",
       "total_rooms                    NaN                        NaN   \n",
       "total_bedrooms                 NaN                        NaN   \n",
       "population                     NaN                        NaN   \n",
       "households                     NaN                        NaN   \n",
       "\n",
       "                ocean_proximity_INLAND  ocean_proximity_ISLAND  \\\n",
       "longitude                          NaN                     NaN   \n",
       "latitude                           NaN                     NaN   \n",
       "total_rooms                        NaN                     NaN   \n",
       "total_bedrooms                     NaN                     NaN   \n",
       "population                         NaN                     NaN   \n",
       "households                         NaN                     NaN   \n",
       "\n",
       "                ocean_proximity_NEAR BAY  ocean_proximity_NEAR OCEAN  \n",
       "longitude                            NaN                         NaN  \n",
       "latitude                             NaN                         NaN  \n",
       "total_rooms                          NaN                         NaN  \n",
       "total_bedrooms                       NaN                         NaN  \n",
       "population                           NaN                         NaN  \n",
       "households                           NaN                         NaN  "
      ]
     },
     "execution_count": 32,
     "metadata": {},
     "output_type": "execute_result"
    }
   ],
   "source": [
    "#usefull correlation values\n",
    "corr[((corr > 0.75) | (corr < -0.75)) & (corr != 1.0)].dropna(axis='index', how='all')"
   ]
  },
  {
   "cell_type": "code",
   "execution_count": 33,
   "metadata": {
    "scrolled": true
   },
   "outputs": [
    {
     "data": {
      "text/plain": [
       "array([[0.2543235 , 0.65772532, 0.17647059, ..., 0.        , 0.        ,\n",
       "        0.        ],\n",
       "       [0.6439471 , 0.12017167, 0.41176471, ..., 0.        , 0.        ,\n",
       "        0.        ],\n",
       "       [0.00508647, 0.8304721 , 0.60784314, ..., 0.        , 0.        ,\n",
       "        1.        ],\n",
       "       ...,\n",
       "       [0.59409969, 0.18776824, 0.45098039, ..., 0.        , 0.        ,\n",
       "        0.        ],\n",
       "       [0.6276704 , 0.13841202, 0.84313725, ..., 0.        , 0.        ,\n",
       "        0.        ],\n",
       "       [0.65615463, 0.13412017, 0.88235294, ..., 0.        , 0.        ,\n",
       "        0.        ]])"
      ]
     },
     "execution_count": 33,
     "metadata": {},
     "output_type": "execute_result"
    }
   ],
   "source": [
    "X_train = training_set.drop(columns=['median_house_value']).values\n",
    "X_train"
   ]
  },
  {
   "cell_type": "code",
   "execution_count": 34,
   "metadata": {},
   "outputs": [
    {
     "data": {
      "text/plain": [
       "array([[0.67548321, 0.15987124, 0.25490196, ..., 0.        , 0.        ,\n",
       "        0.        ],\n",
       "       [0.02136317, 0.89484979, 0.58823529, ..., 0.        , 0.        ,\n",
       "        1.        ],\n",
       "       [0.27772126, 0.4806867 , 0.31372549, ..., 0.        , 0.        ,\n",
       "        0.        ],\n",
       "       ...,\n",
       "       [0.60834181, 0.15665236, 0.96078431, ..., 0.        , 0.        ,\n",
       "        0.        ],\n",
       "       [0.20651068, 0.65879828, 0.33333333, ..., 0.        , 0.        ,\n",
       "        0.        ],\n",
       "       [0.20651068, 0.56974249, 1.        , ..., 0.        , 1.        ,\n",
       "        0.        ]])"
      ]
     },
     "execution_count": 34,
     "metadata": {},
     "output_type": "execute_result"
    }
   ],
   "source": [
    "X_test=test_set.drop(columns=['median_house_value']).values\n",
    "X_test"
   ]
  },
  {
   "cell_type": "code",
   "execution_count": 35,
   "metadata": {},
   "outputs": [
    {
     "data": {
      "text/latex": [
       "$\\displaystyle \\left( \\left( 8256, \\  13\\right), \\  \\left( 12384, \\  13\\right)\\right)$"
      ],
      "text/plain": [
       "((8256, 13), (12384, 13))"
      ]
     },
     "execution_count": 35,
     "metadata": {},
     "output_type": "execute_result"
    }
   ],
   "source": [
    "X_test.shape, X_train.shape "
   ]
  },
  {
   "cell_type": "code",
   "execution_count": 36,
   "metadata": {},
   "outputs": [
    {
     "data": {
      "text/plain": [
       "array([0.28742356, 0.54948433, 0.12598092, ..., 0.34701094, 0.61793766,\n",
       "       0.38144379])"
      ]
     },
     "execution_count": 36,
     "metadata": {},
     "output_type": "execute_result"
    }
   ],
   "source": [
    "y_train= training_set['median_house_value'].values\n",
    "y_train"
   ]
  },
  {
   "cell_type": "code",
   "execution_count": 37,
   "metadata": {},
   "outputs": [
    {
     "data": {
      "text/plain": [
       "array([0.351547  , 0.12185723, 0.33608315, ..., 0.20123835, 0.17196012,\n",
       "       0.18824871])"
      ]
     },
     "execution_count": 37,
     "metadata": {},
     "output_type": "execute_result"
    }
   ],
   "source": [
    "y_test= test_set['median_house_value'].values\n",
    "y_test"
   ]
  },
  {
   "cell_type": "code",
   "execution_count": 38,
   "metadata": {},
   "outputs": [
    {
     "data": {
      "text/latex": [
       "$\\displaystyle \\left( \\left( 8256\\right), \\  \\left( 12384\\right)\\right)$"
      ],
      "text/plain": [
       "((8256,), (12384,))"
      ]
     },
     "execution_count": 38,
     "metadata": {},
     "output_type": "execute_result"
    }
   ],
   "source": [
    "y_test.shape, y_train.shape"
   ]
  },
  {
   "cell_type": "code",
   "execution_count": 39,
   "metadata": {},
   "outputs": [
    {
     "data": {
      "text/plain": [
       "array([[0.2543235 , 0.6439471 , 0.00508647, ..., 0.59409969, 0.6276704 ,\n",
       "        0.65615463],\n",
       "       [0.65772532, 0.12017167, 0.8304721 , ..., 0.18776824, 0.13841202,\n",
       "        0.13412017],\n",
       "       [0.17647059, 0.41176471, 0.60784314, ..., 0.45098039, 0.84313725,\n",
       "        0.88235294],\n",
       "       ...,\n",
       "       [0.        , 0.        , 0.        , ..., 0.        , 0.        ,\n",
       "        0.        ],\n",
       "       [0.        , 0.        , 0.        , ..., 0.        , 0.        ,\n",
       "        0.        ],\n",
       "       [0.        , 0.        , 1.        , ..., 0.        , 0.        ,\n",
       "        0.        ]])"
      ]
     },
     "execution_count": 39,
     "metadata": {},
     "output_type": "execute_result"
    }
   ],
   "source": [
    "X_train_t=X_train.T\n",
    "X_train_t"
   ]
  },
  {
   "cell_type": "code",
   "execution_count": 40,
   "metadata": {},
   "outputs": [
    {
     "name": "stdout",
     "output_type": "stream",
     "text": [
      "[[1. 0. 0. 0. 0. 0. 0. 0. 0. 0. 0. 0. 0.]\n",
      " [0. 1. 0. 0. 0. 0. 0. 0. 0. 0. 0. 0. 0.]\n",
      " [0. 0. 1. 0. 0. 0. 0. 0. 0. 0. 0. 0. 0.]\n",
      " [0. 0. 0. 1. 0. 0. 0. 0. 0. 0. 0. 0. 0.]\n",
      " [0. 0. 0. 0. 1. 0. 0. 0. 0. 0. 0. 0. 0.]\n",
      " [0. 0. 0. 0. 0. 1. 0. 0. 0. 0. 0. 0. 0.]\n",
      " [0. 0. 0. 0. 0. 0. 1. 0. 0. 0. 0. 0. 0.]\n",
      " [0. 0. 0. 0. 0. 0. 0. 1. 0. 0. 0. 0. 0.]\n",
      " [0. 0. 0. 0. 0. 0. 0. 0. 1. 0. 0. 0. 0.]\n",
      " [0. 0. 0. 0. 0. 0. 0. 0. 0. 1. 0. 0. 0.]\n",
      " [0. 0. 0. 0. 0. 0. 0. 0. 0. 0. 1. 0. 0.]\n",
      " [0. 0. 0. 0. 0. 0. 0. 0. 0. 0. 0. 1. 0.]\n",
      " [0. 0. 0. 0. 0. 0. 0. 0. 0. 0. 0. 0. 1.]]\n"
     ]
    }
   ],
   "source": [
    "#  matrix with 1's on main diagnol \n",
    "I = np.identity(13, dtype = float) \n",
    "print(I) \n",
    "  "
   ]
  },
  {
   "cell_type": "code",
   "execution_count": 41,
   "metadata": {},
   "outputs": [],
   "source": [
    "def bhat_ridge(lamb):\n",
    "    bhat_ridge=(((LA.inv((X_train_t@X_train)+lamb*I))@X_train_t)@y_train)\n",
    "    return bhat_ridge"
   ]
  },
  {
   "cell_type": "code",
   "execution_count": 42,
   "metadata": {
    "scrolled": true
   },
   "outputs": [
    {
     "data": {
      "text/plain": [
       "(array([-0.52103079, -0.46477574,  0.11592546, -0.38653257,  0.90076596,\n",
       "        -2.56750629,  0.91452929,  1.16272553,  0.46799134,  0.38740312,\n",
       "         0.77273622,  0.46329156,  0.48376005]),\n",
       " array([-0.51612145, -0.45990093,  0.11621331, -0.38310778,  0.90414256,\n",
       "        -2.50560723,  0.8796245 ,  1.16267123,  0.46388519,  0.38262892,\n",
       "         0.75648385,  0.45949888,  0.48000823]),\n",
       " array([-0.47539514, -0.42008107,  0.11837334, -0.34160809,  0.88088788,\n",
       "        -2.07131035,  0.66884026,  1.16028333,  0.43070875,  0.34400491,\n",
       "         0.63453679,  0.42868901,  0.44954726]),\n",
       " array([-0.27013258, -0.22472079,  0.12567885, -0.08200355,  0.47547661,\n",
       "        -0.7709    ,  0.27074111,  1.12747953,  0.27423184,  0.16006467,\n",
       "         0.22751085,  0.28106868,  0.30364765]),\n",
       " array([-0.01098648,  0.01856207,  0.11439766,  0.09807685,  0.12896697,\n",
       "        -0.07902511,  0.10232583,  0.93280667,  0.13534892, -0.02443568,\n",
       "         0.02735706,  0.14902788,  0.16930784]),\n",
       " array([ 0.04487943,  0.06962936,  0.10774123,  0.0972457 ,  0.0928172 ,\n",
       "        -0.02736013,  0.08113125,  0.79362561,  0.13431285, -0.04052545,\n",
       "         0.0139244 ,  0.14635208,  0.16414244]),\n",
       " array([ 0.12901288,  0.13283019,  0.13164391,  0.06450202,  0.05570179,\n",
       "         0.01169979,  0.05423225,  0.40514548,  0.15500423, -0.03585171,\n",
       "         0.00279649,  0.14005724,  0.15438546]),\n",
       " array([ 0.14062988,  0.13038417,  0.15248267,  0.04926581,  0.04589652,\n",
       "         0.01427245,  0.04526154,  0.27696096,  0.15833873, -0.02186578,\n",
       "         0.00139066,  0.12144783,  0.13441741]),\n",
       " array([0.0976187 , 0.06877842, 0.11612644, 0.01720826, 0.01955304,\n",
       "        0.0085804 , 0.01943652, 0.07475277, 0.10755222, 0.02307272,\n",
       "        0.00017158, 0.0407243 , 0.04507511]))"
      ]
     },
     "execution_count": 42,
     "metadata": {},
     "output_type": "execute_result"
    }
   ],
   "source": [
    "bhat1=bhat_ridge(0)\n",
    "bhat2=bhat_ridge(0.05)\n",
    "bhat3=bhat_ridge(0.5)\n",
    "bhat4=bhat_ridge(5)\n",
    "bhat5=bhat_ridge(50)\n",
    "bhat6=bhat_ridge(100)\n",
    "bhat7=bhat_ridge(500)\n",
    "bhat8=bhat_ridge(1000)\n",
    "bhat9=bhat_ridge(10000)\n",
    "\n",
    "bhat1,bhat2,bhat3,bhat4,bhat5,bhat6,bhat7,bhat8,bhat9"
   ]
  },
  {
   "cell_type": "code",
   "execution_count": 43,
   "metadata": {},
   "outputs": [],
   "source": [
    "def ridge_regression(lamb): \n",
    "    y_pred_ridge = X_test @ (((LA.inv((X_train_t@X_train)+lamb*I))@X_train_t)@y_train)\n",
    "    return y_pred_ridge\n"
   ]
  },
  {
   "cell_type": "code",
   "execution_count": 44,
   "metadata": {
    "scrolled": true
   },
   "outputs": [
    {
     "data": {
      "text/plain": [
       "(array([0.40960692, 0.25231327, 0.20912537, ..., 0.30713555, 0.23138969,\n",
       "        0.35919842]),\n",
       " array([0.4093162 , 0.25276148, 0.20987029, ..., 0.30780396, 0.23096863,\n",
       "        0.3593632 ]),\n",
       " array([0.40700807, 0.25676188, 0.21426727, ..., 0.31294281, 0.22752495,\n",
       "        0.360685  ]),\n",
       " array([0.39403378, 0.28153253, 0.21553812, ..., 0.33297646, 0.21156525,\n",
       "        0.36730205]),\n",
       " array([0.35377647, 0.3397506 , 0.19835648, ..., 0.3629723 , 0.20044115,\n",
       "        0.38992777]),\n",
       " array([0.32992563, 0.36472304, 0.19500289, ..., 0.38062704, 0.20108229,\n",
       "        0.40357864]),\n",
       " array([0.26283346, 0.39430391, 0.18975554, ..., 0.43935816, 0.19998741,\n",
       "        0.4258448 ]),\n",
       " array([0.24136493, 0.37339516, 0.18797643, ..., 0.45344052, 0.19757518,\n",
       "        0.4129537 ]),\n",
       " array([0.16006288, 0.18644405, 0.13799894, ..., 0.30298465, 0.14215333,\n",
       "        0.22606361]))"
      ]
     },
     "execution_count": 44,
     "metadata": {},
     "output_type": "execute_result"
    }
   ],
   "source": [
    "y_pred_ridge_1=ridge_regression(0)\n",
    "y_pred_ridge_2=ridge_regression(0.05)\n",
    "y_pred_ridge_3=ridge_regression(0.5)\n",
    "y_pred_ridge_4=ridge_regression(5)\n",
    "y_pred_ridge_5=ridge_regression(50)\n",
    "y_pred_ridge_6=ridge_regression(100)\n",
    "y_pred_ridge_7=ridge_regression(500)\n",
    "y_pred_ridge_8=ridge_regression(1000)\n",
    "y_pred_ridge_9=ridge_regression(10000)\n",
    "y_pred_ridge_1, y_pred_ridge_2, y_pred_ridge_3, y_pred_ridge_4, y_pred_ridge_5, y_pred_ridge_6, y_pred_ridge_7, y_pred_ridge_8, y_pred_ridge_9"
   ]
  },
  {
   "cell_type": "code",
   "execution_count": 45,
   "metadata": {},
   "outputs": [],
   "source": [
    "def mse(lamb):\n",
    "    mse=np.square((ridge_regression(lamb))-(y_test)).mean()\n",
    "    return mse"
   ]
  },
  {
   "cell_type": "code",
   "execution_count": 46,
   "metadata": {},
   "outputs": [
    {
     "data": {
      "text/latex": [
       "$\\displaystyle \\left( 0.01994201487148165, \\  0.01996057008469971, \\  0.020137174234636727, \\  0.02127577348880754, \\  0.02324025501764029, \\  0.02472486942432206, \\  0.03289181439843159, \\  0.038226779830418695, \\  0.08132997923169019\\right)$"
      ],
      "text/plain": [
       "(0.01994201487148165, 0.01996057008469971, 0.020137174234636727, 0.02127577348\n",
       "880754, 0.02324025501764029, 0.02472486942432206, 0.03289181439843159, 0.03822\n",
       "6779830418695, 0.08132997923169019)"
      ]
     },
     "execution_count": 46,
     "metadata": {},
     "output_type": "execute_result"
    }
   ],
   "source": [
    "mse1=mse(0)\n",
    "mse2=mse(0.05)\n",
    "mse3=mse(0.5)\n",
    "mse4=mse(5)\n",
    "mse5=mse(50)\n",
    "mse6=mse(100) \n",
    "mse7=mse(500)\n",
    "mse8=mse(1000)\n",
    "mse9=mse(10000)\n",
    "mse1, mse2, mse3, mse4, mse5, mse6, mse7, mse8, mse9"
   ]
  },
  {
   "cell_type": "code",
   "execution_count": 47,
   "metadata": {},
   "outputs": [
    {
     "data": {
      "text/latex": [
       "$\\displaystyle 0.01994201487148165$"
      ],
      "text/plain": [
       "0.01994201487148165"
      ]
     },
     "execution_count": 47,
     "metadata": {},
     "output_type": "execute_result"
    }
   ],
   "source": [
    "min(mse1, mse2, mse3, mse4, mse5, mse6, mse7, mse8, mse9)"
   ]
  },
  {
   "cell_type": "code",
   "execution_count": 48,
   "metadata": {},
   "outputs": [],
   "source": [
    "lamb=([0,0.05,0.5,5,50,100,500,1000,10000])\n"
   ]
  },
  {
   "cell_type": "code",
   "execution_count": 49,
   "metadata": {},
   "outputs": [
    {
     "data": {
      "image/png": "[encoded data removed]",
      "text/plain": [
       "<Figure size 432x288 with 1 Axes>"
      ]
     },
     "metadata": {
      "needs_background": "light"
     },
     "output_type": "display_data"
    }
   ],
   "source": [
    "sns.lineplot(x=lamb,y=[mse1,mse2,mse3,mse4,mse5,mse6,mse7,mse8,mse9] )\n",
    "plt.xlabel('λ')\n",
    "plt.ylabel('test MSE')\n",
    "plt.title(' Mean square error ')\n",
    "plt.show()\n"
   ]
  },
  {
   "cell_type": "code",
   "execution_count": 50,
   "metadata": {},
   "outputs": [],
   "source": [
    "def ridge_train(lamb): \n",
    "    y_pred_ridge_train = X_train @ (((LA.inv((X_train_t@X_train)+lamb*I))@X_train_t)@y_train)\n",
    "    return y_pred_ridge_train"
   ]
  },
  {
   "cell_type": "code",
   "execution_count": 51,
   "metadata": {},
   "outputs": [
    {
     "data": {
      "text/plain": [
       "(array([0.30722292, 0.5560721 , 0.3229653 , ..., 0.31189163, 0.50368267,\n",
       "        0.42437526]),\n",
       " array([0.30700277, 0.55621988, 0.32347086, ..., 0.31333226, 0.50326456,\n",
       "        0.42431512]),\n",
       " array([0.30536415, 0.55769829, 0.3260934 , ..., 0.32325833, 0.50053983,\n",
       "        0.42403378]),\n",
       " array([0.29826097, 0.56411966, 0.33110288, ..., 0.35277836, 0.49377937,\n",
       "        0.4257613 ]),\n",
       " array([0.28263344, 0.54985192, 0.36105441, ..., 0.38168892, 0.48634293,\n",
       "        0.43560416]),\n",
       " array([0.27232352, 0.53393696, 0.37829155, ..., 0.39259508, 0.48346526,\n",
       "        0.44203384]),\n",
       " array([0.23118863, 0.47545253, 0.39340204, ..., 0.40922046, 0.48028298,\n",
       "        0.4648999 ]),\n",
       " array([0.21250961, 0.44403742, 0.36995182, ..., 0.40209084, 0.47300556,\n",
       "        0.46634588]),\n",
       " array([0.13804328, 0.26001033, 0.18329753, ..., 0.25163388, 0.29883858,\n",
       "        0.30160678]))"
      ]
     },
     "execution_count": 51,
     "metadata": {},
     "output_type": "execute_result"
    }
   ],
   "source": [
    "y_pred_ridge_1t=ridge_train(0)\n",
    "y_pred_ridge_2t=ridge_train(0.05)\n",
    "y_pred_ridge_3t=ridge_train(0.5)\n",
    "y_pred_ridge_4t=ridge_train(5)\n",
    "y_pred_ridge_5t=ridge_train(50)\n",
    "y_pred_ridge_6t=ridge_train(100)\n",
    "y_pred_ridge_7t=ridge_train(500)\n",
    "y_pred_ridge_8t=ridge_train(1000)\n",
    "y_pred_ridge_9t=ridge_train(10000)\n",
    "y_pred_ridge_1t, y_pred_ridge_2t, y_pred_ridge_3t, y_pred_ridge_4t, y_pred_ridge_5t, y_pred_ridge_6t, y_pred_ridge_7t, y_pred_ridge_8t, y_pred_ridge_9t"
   ]
  },
  {
   "cell_type": "code",
   "execution_count": 52,
   "metadata": {},
   "outputs": [],
   "source": [
    "def mse_train(lamb):\n",
    "    mse_train=np.square((ridge_train(lamb))-(y_train)).mean()\n",
    "    return mse_train"
   ]
  },
  {
   "cell_type": "code",
   "execution_count": 53,
   "metadata": {},
   "outputs": [
    {
     "data": {
      "text/latex": [
       "$\\displaystyle \\left( 0.020203246461315653, \\  0.020204087999605602, \\  0.020260452025075044, \\  0.021118218278572812, \\  0.02302329591521864, \\  0.024508392843007827, \\  0.03262614629556306, \\  0.03788642326511777, \\  0.08002270685404143\\right)$"
      ],
      "text/plain": [
       "(0.020203246461315653, 0.020204087999605602, 0.020260452025075044, 0.021118218\n",
       "278572812, 0.02302329591521864, 0.024508392843007827, 0.03262614629556306, 0.0\n",
       "3788642326511777, 0.08002270685404143)"
      ]
     },
     "execution_count": 53,
     "metadata": {},
     "output_type": "execute_result"
    }
   ],
   "source": [
    "mse1t=mse_train(0)\n",
    "mse2t=mse_train(0.05)\n",
    "mse3t=mse_train(0.5)\n",
    "mse4t=mse_train(5)\n",
    "mse5t=mse_train(50)\n",
    "mse6t=mse_train(100) \n",
    "mse7t=mse_train(500)\n",
    "mse8t=mse_train(1000)\n",
    "mse9t=mse_train(10000)\n",
    "mse1t, mse2t, mse3t, mse4t, mse5t, mse6t, mse7t, mse8t, mse9t"
   ]
  },
  {
   "cell_type": "code",
   "execution_count": 54,
   "metadata": {},
   "outputs": [
    {
     "data": {
      "text/latex": [
       "$\\displaystyle 0.020203246461315653$"
      ],
      "text/plain": [
       "0.020203246461315653"
      ]
     },
     "execution_count": 54,
     "metadata": {},
     "output_type": "execute_result"
    }
   ],
   "source": [
    "min(mse1t, mse2t, mse3t, mse4t, mse5t, mse6t, mse7t, mse8t, mse9t)"
   ]
  },
  {
   "cell_type": "code",
   "execution_count": 55,
   "metadata": {
    "scrolled": true
   },
   "outputs": [
    {
     "data": {
      "image/png": "[encoded data removed]",
      "text/plain": [
       "<Figure size 432x288 with 1 Axes>"
      ]
     },
     "metadata": {
      "needs_background": "light"
     },
     "output_type": "display_data"
    }
   ],
   "source": [
    "sns.lineplot(x=lamb, y=[mse1, mse2, mse3, mse4, mse5, mse6, mse7, mse8, mse9], color='black')\n",
    "sns.lineplot(x=lamb, y=[mse1t, mse2t, mse3t, mse4t, mse5t, mse6t, mse7t, mse8t, mse9t], color='red')\n",
    "plt.title('Overfitting/Underfitting')\n",
    "plt.xlabel('λ')\n",
    "plt.ylabel('MSE')\n",
    "plt.show()\n"
   ]
  },
  {
   "cell_type": "code",
   "execution_count": 56,
   "metadata": {},
   "outputs": [
    {
     "data": {
      "text/latex": [
       "$\\displaystyle \\left( \\left( 13, \\  13\\right), \\  \\left( 13\\right), \\  \\left( 13, \\  12384\\right)\\right)$"
      ],
      "text/plain": [
       "((13, 13), (13,), (13, 12384))"
      ]
     },
     "execution_count": 56,
     "metadata": {},
     "output_type": "execute_result"
    }
   ],
   "source": [
    "#pca : singular values decomposition\n",
    "U, s, Vh = LA.svd(X_train_t, full_matrices=False)\n",
    "U.shape, s.shape, Vh.shape"
   ]
  },
  {
   "cell_type": "code",
   "execution_count": 57,
   "metadata": {},
   "outputs": [
    {
     "data": {
      "text/latex": [
       "$\\displaystyle \\left[\\begin{array}{ccccccccccccc}115.1 & 0.0 & 0.0 & 0.0 & 0.0 & 0.0 & 0.0 & 0.0 & 0.0 & 0.0 & 0.0 & 0.0 & 0.0\\\\0.0 & 68.8 & 0.0 & 0.0 & 0.0 & 0.0 & 0.0 & 0.0 & 0.0 & 0.0 & 0.0 & 0.0 & 0.0\\\\0.0 & 0.0 & 47.55 & 0.0 & 0.0 & 0.0 & 0.0 & 0.0 & 0.0 & 0.0 & 0.0 & 0.0 & 0.0\\\\0.0 & 0.0 & 0.0 & 41.57 & 0.0 & 0.0 & 0.0 & 0.0 & 0.0 & 0.0 & 0.0 & 0.0 & 0.0\\\\0.0 & 0.0 & 0.0 & 0.0 & 25.34 & 0.0 & 0.0 & 0.0 & 0.0 & 0.0 & 0.0 & 0.0 & 0.0\\\\0.0 & 0.0 & 0.0 & 0.0 & 0.0 & 22.62 & 0.0 & 0.0 & 0.0 & 0.0 & 0.0 & 0.0 & 0.0\\\\0.0 & 0.0 & 0.0 & 0.0 & 0.0 & 0.0 & 13.18 & 0.0 & 0.0 & 0.0 & 0.0 & 0.0 & 0.0\\\\0.0 & 0.0 & 0.0 & 0.0 & 0.0 & 0.0 & 0.0 & 10.43 & 0.0 & 0.0 & 0.0 & 0.0 & 0.0\\\\0.0 & 0.0 & 0.0 & 0.0 & 0.0 & 0.0 & 0.0 & 0.0 & 2.69 & 0.0 & 0.0 & 0.0 & 0.0\\\\0.0 & 0.0 & 0.0 & 0.0 & 0.0 & 0.0 & 0.0 & 0.0 & 0.0 & 1.68 & 0.0 & 0.0 & 0.0\\\\0.0 & 0.0 & 0.0 & 0.0 & 0.0 & 0.0 & 0.0 & 0.0 & 0.0 & 0.0 & 1.63 & 0.0 & 0.0\\\\0.0 & 0.0 & 0.0 & 0.0 & 0.0 & 0.0 & 0.0 & 0.0 & 0.0 & 0.0 & 0.0 & 1.57 & 0.0\\\\0.0 & 0.0 & 0.0 & 0.0 & 0.0 & 0.0 & 0.0 & 0.0 & 0.0 & 0.0 & 0.0 & 0.0 & 0.99\\end{array}\\right]$"
      ],
      "text/plain": [
       "⎡115.1  0.0    0.0    0.0    0.0    0.0    0.0    0.0   0.0   0.0   0.0   0.0 \n",
       "⎢                                                                             \n",
       "⎢ 0.0   68.8   0.0    0.0    0.0    0.0    0.0    0.0   0.0   0.0   0.0   0.0 \n",
       "⎢                                                                             \n",
       "⎢ 0.0   0.0   47.55   0.0    0.0    0.0    0.0    0.0   0.0   0.0   0.0   0.0 \n",
       "⎢                                                                             \n",
       "⎢ 0.0   0.0    0.0   41.57   0.0    0.0    0.0    0.0   0.0   0.0   0.0   0.0 \n",
       "⎢                                                                             \n",
       "⎢ 0.0   0.0    0.0    0.0   25.34   0.0    0.0    0.0   0.0   0.0   0.0   0.0 \n",
       "⎢                                                                             \n",
       "⎢ 0.0   0.0    0.0    0.0    0.0   22.62   0.0    0.0   0.0   0.0   0.0   0.0 \n",
       "⎢                                                                             \n",
       "⎢ 0.0   0.0    0.0    0.0    0.0    0.0   13.18   0.0   0.0   0.0   0.0   0.0 \n",
       "⎢                                                                             \n",
       "⎢ 0.0   0.0    0.0    0.0    0.0    0.0    0.0   10.43  0.0   0.0   0.0   0.0 \n",
       "⎢                                                                             \n",
       "⎢ 0.0   0.0    0.0    0.0    0.0    0.0    0.0    0.0   2.69  0.0   0.0   0.0 \n",
       "⎢                                                                             \n",
       "⎢ 0.0   0.0    0.0    0.0    0.0    0.0    0.0    0.0   0.0   1.68  0.0   0.0 \n",
       "⎢                                                                             \n",
       "⎢ 0.0   0.0    0.0    0.0    0.0    0.0    0.0    0.0   0.0   0.0   1.63  0.0 \n",
       "⎢                                                                             \n",
       "⎢ 0.0   0.0    0.0    0.0    0.0    0.0    0.0    0.0   0.0   0.0   0.0   1.57\n",
       "⎢                                                                             \n",
       "⎣ 0.0   0.0    0.0    0.0    0.0    0.0    0.0    0.0   0.0   0.0   0.0   0.0 \n",
       "\n",
       "  0.0 ⎤\n",
       "      ⎥\n",
       "  0.0 ⎥\n",
       "      ⎥\n",
       "  0.0 ⎥\n",
       "      ⎥\n",
       "  0.0 ⎥\n",
       "      ⎥\n",
       "  0.0 ⎥\n",
       "      ⎥\n",
       "  0.0 ⎥\n",
       "      ⎥\n",
       "  0.0 ⎥\n",
       "      ⎥\n",
       "  0.0 ⎥\n",
       "      ⎥\n",
       "  0.0 ⎥\n",
       "      ⎥\n",
       "  0.0 ⎥\n",
       "      ⎥\n",
       "  0.0 ⎥\n",
       "      ⎥\n",
       "  0.0 ⎥\n",
       "      ⎥\n",
       "  0.99⎦"
      ]
     },
     "execution_count": 57,
     "metadata": {},
     "output_type": "execute_result"
    }
   ],
   "source": [
    "#matrix of the eigenvalues\n",
    "Matrix(np.diag(np.round(s, decimals=2)))"
   ]
  },
  {
   "cell_type": "code",
   "execution_count": 58,
   "metadata": {},
   "outputs": [],
   "source": [
    "#cov matrix\n",
    "covariance_matrix = np.cov(X_train.T)"
   ]
  },
  {
   "cell_type": "code",
   "execution_count": 59,
   "metadata": {},
   "outputs": [
    {
     "name": "stdout",
     "output_type": "stream",
     "text": [
      "Eigenvector: \n",
      " [[ 1.05404739e-01  1.84706530e-01 -2.92912612e-01  3.38081550e-01\n",
      "  -4.74810536e-01  9.31428711e-03  3.41987838e-02  7.24469825e-01\n",
      "   1.73013225e-02  7.05632982e-03  3.49413065e-02  3.93509617e-02\n",
      "   9.04693805e-15]\n",
      " [-1.94924032e-01 -9.07692276e-02  3.24877330e-01 -3.51395097e-01\n",
      "   5.11410028e-01  3.68655808e-02 -8.92157101e-04  6.77444334e-01\n",
      "   1.11011602e-02  8.36513391e-03  3.47469644e-02  3.88626198e-02\n",
      "   1.03681076e-14]\n",
      " [ 5.87463027e-02 -1.98211161e-01  1.44715014e-01  8.24927581e-01\n",
      "   4.45726518e-01 -1.24166214e-01 -2.03342785e-01  1.90800149e-02\n",
      "  -7.93293162e-04 -1.75855622e-03 -2.52218768e-03 -1.20900656e-03\n",
      "   6.02467395e-16]\n",
      " [-2.02078747e-03  9.57840748e-03 -7.59062545e-03 -8.46395133e-02\n",
      "  -6.52245602e-02 -1.82956836e-02 -4.75173481e-01  5.55470052e-02\n",
      "   1.80116470e-01  2.92484529e-02 -8.46839202e-01 -9.37249950e-02\n",
      "   2.21734164e-15]\n",
      " [ 7.41667774e-04  9.09723214e-03 -1.06201553e-02 -8.48487149e-02\n",
      "  -7.53843310e-02  9.49147884e-02 -5.78686404e-01  3.59764421e-02\n",
      "  -5.95780493e-01  2.68061957e-02  2.65120354e-01 -4.64520134e-01\n",
      "  -3.55014070e-15]\n",
      " [ 2.87041940e-03  7.42954018e-03 -5.23616936e-03 -3.69793594e-02\n",
      "  -3.38733751e-02  4.06408260e-02 -2.64930992e-01 -3.22023640e-02\n",
      "  -4.18941099e-01 -4.53366553e-02 -3.41548653e-02  8.63587608e-01\n",
      "  -4.05897092e-15]\n",
      " [ 3.82135401e-03  6.45984817e-03 -8.16568764e-03 -8.30354273e-02\n",
      "  -6.95909808e-02  8.49728188e-02 -5.64093230e-01 -3.21948680e-02\n",
      "   6.60381303e-01 -3.12100805e-02  4.48946324e-01  1.51824916e-01\n",
      "   5.05780211e-15]\n",
      " [ 4.43122380e-02 -2.68626951e-02  5.75109524e-03 -1.40196039e-01\n",
      "  -6.94767153e-02 -9.79039442e-01 -7.78025685e-02  3.50525604e-02\n",
      "  -2.04539766e-02 -1.88714885e-03  8.07003680e-02  8.07318558e-03\n",
      "   1.70679840e-16]\n",
      " [ 7.39688823e-01  3.76747441e-01  1.35803345e-01 -8.47407916e-02\n",
      "   1.86491538e-01  2.32078570e-02 -2.38728810e-03  1.63206911e-02\n",
      "  -2.23913409e-03 -2.22214054e-01 -9.14006574e-03 -1.55195877e-02\n",
      "   4.47213595e-01]\n",
      " [-6.25683891e-01  5.71148538e-01  1.18569901e-02  1.34716822e-01\n",
      "   5.34275197e-02 -6.71809294e-02 -2.90667300e-02 -7.20623214e-02\n",
      "  -3.41762282e-03 -2.24289684e-01 -3.30106207e-03 -1.69037149e-02\n",
      "   4.47213595e-01]\n",
      " [-1.85794216e-05 -3.59917000e-04 -1.49531986e-04  2.24498260e-03\n",
      "  -2.35138954e-04 -5.16295120e-05 -8.72270323e-04 -1.42096955e-02\n",
      "   1.08154156e-02  8.92308320e-01  2.66649306e-02  5.24399053e-02\n",
      "   4.47213596e-01]\n",
      " [-6.99537688e-02 -4.86056872e-01  5.41855690e-01  5.36961947e-02\n",
      "  -4.56910503e-01  3.58347577e-02  3.84891051e-02  2.95539686e-02\n",
      "  -2.66203287e-03 -2.23130689e-01 -7.95892695e-03 -1.00198126e-02\n",
      "   4.47213595e-01]\n",
      " [-4.40325837e-02 -4.61479191e-01 -6.89366493e-01 -1.05917208e-01\n",
      "   2.17226584e-01  8.18994415e-03 -6.16281664e-03  4.03973572e-02\n",
      "  -2.49662582e-03 -2.22673893e-01 -6.26487581e-03 -9.99679001e-03\n",
      "   4.47213595e-01]] \n",
      "\n",
      "Eigenvalues: \n",
      " [3.93330918e-01 1.89326670e-01 1.40582304e-01 5.69752087e-02\n",
      " 4.97091684e-02 1.53685833e-02 9.93665958e-03 1.27569956e-03\n",
      " 7.84064062e-05 3.02521809e-04 2.06331305e-04 2.17469215e-04\n",
      " 3.97352529e-17] \n",
      "\n"
     ]
    }
   ],
   "source": [
    "#compute eingen value and eigenvectors\n",
    "eigen_values, eigen_vectors = np.linalg.eig(covariance_matrix)\n",
    "print(\"Eigenvector: \\n\",eigen_vectors,\"\\n\")\n",
    "print(\"Eigenvalues: \\n\", eigen_values, \"\\n\")"
   ]
  },
  {
   "cell_type": "code",
   "execution_count": 60,
   "metadata": {},
   "outputs": [
    {
     "name": "stdout",
     "output_type": "stream",
     "text": [
      "[45.87966377205148, 22.083806662810122, 16.398072331810777, 6.645812216423462, 5.798272719767115, 1.792651947457508, 1.159051018152211, 0.14880260986904664, 0.009145631300378114, 0.035287332496128365, 0.02406729415189076, 0.025366463709866463, 4.634876033052671e-15]\n"
     ]
    }
   ],
   "source": [
    "variance_explained = []\n",
    "for i in eigen_values:\n",
    "     variance_explained.append((i/sum(eigen_values))*100)\n",
    "        \n",
    "print(variance_explained)"
   ]
  },
  {
   "cell_type": "code",
   "execution_count": 61,
   "metadata": {},
   "outputs": [
    {
     "data": {
      "text/latex": [
       "$\\displaystyle \\left( 13\\right)$"
      ],
      "text/plain": [
       "(13,)"
      ]
     },
     "execution_count": 61,
     "metadata": {},
     "output_type": "execute_result"
    }
   ],
   "source": [
    "eigen_values.shape"
   ]
  },
  {
   "cell_type": "code",
   "execution_count": 62,
   "metadata": {},
   "outputs": [
    {
     "name": "stdout",
     "output_type": "stream",
     "text": [
      "[ 45.87966377  67.96347043  84.36154277  91.00735498  96.8056277\n",
      "  98.59827965  99.75733067  99.90613328  99.91527891  99.95056624\n",
      "  99.97463354 100.         100.        ]\n"
     ]
    }
   ],
   "source": [
    "cum_variance_explained = np.cumsum(variance_explained)\n",
    "print(cum_variance_explained)"
   ]
  },
  {
   "cell_type": "code",
   "execution_count": 63,
   "metadata": {},
   "outputs": [
    {
     "data": {
      "text/latex": [
       "$\\displaystyle \\left( 13\\right)$"
      ],
      "text/plain": [
       "(13,)"
      ]
     },
     "execution_count": 63,
     "metadata": {},
     "output_type": "execute_result"
    }
   ],
   "source": [
    "cum_variance_explained.shape"
   ]
  },
  {
   "cell_type": "code",
   "execution_count": 64,
   "metadata": {},
   "outputs": [
    {
     "data": {
      "image/png": "[encoded data removed]",
      "text/plain": [
       "<Figure size 432x288 with 1 Axes>"
      ]
     },
     "metadata": {
      "needs_background": "light"
     },
     "output_type": "display_data"
    }
   ],
   "source": [
    "sns.lineplot(x = [1,2,3,4,5,6,7,8,9,10,11,12,13], y=cum_variance_explained)\n",
    "plt.title('Components and explained variance for training set')\n",
    "plt.xlabel('Components')\n",
    "plt.ylabel('Comulative explained variance')\n",
    "plt.show()"
   ]
  },
  {
   "cell_type": "code",
   "execution_count": 65,
   "metadata": {},
   "outputs": [
    {
     "data": {
      "text/latex": [
       "$\\displaystyle \\left( \\left( 13, \\  13\\right), \\  \\left( 13\\right), \\  \\left( 13, \\  8256\\right)\\right)$"
      ],
      "text/plain": [
       "((13, 13), (13,), (13, 8256))"
      ]
     },
     "execution_count": 65,
     "metadata": {},
     "output_type": "execute_result"
    }
   ],
   "source": [
    "U_test, s_test, Vh_test = LA.svd(X_test.T, full_matrices=False)\n",
    "U_test.shape, s_test.shape, Vh_test.shape"
   ]
  },
  {
   "cell_type": "code",
   "execution_count": 66,
   "metadata": {},
   "outputs": [
    {
     "data": {
      "text/latex": [
       "$\\displaystyle \\left[\\begin{array}{ccccccccccccc}94.03 & 0.0 & 0.0 & 0.0 & 0.0 & 0.0 & 0.0 & 0.0 & 0.0 & 0.0 & 0.0 & 0.0 & 0.0\\\\0.0 & 56.07 & 0.0 & 0.0 & 0.0 & 0.0 & 0.0 & 0.0 & 0.0 & 0.0 & 0.0 & 0.0 & 0.0\\\\0.0 & 0.0 & 39.01 & 0.0 & 0.0 & 0.0 & 0.0 & 0.0 & 0.0 & 0.0 & 0.0 & 0.0 & 0.0\\\\0.0 & 0.0 & 0.0 & 34.26 & 0.0 & 0.0 & 0.0 & 0.0 & 0.0 & 0.0 & 0.0 & 0.0 & 0.0\\\\0.0 & 0.0 & 0.0 & 0.0 & 20.9 & 0.0 & 0.0 & 0.0 & 0.0 & 0.0 & 0.0 & 0.0 & 0.0\\\\0.0 & 0.0 & 0.0 & 0.0 & 0.0 & 18.46 & 0.0 & 0.0 & 0.0 & 0.0 & 0.0 & 0.0 & 0.0\\\\0.0 & 0.0 & 0.0 & 0.0 & 0.0 & 0.0 & 10.79 & 0.0 & 0.0 & 0.0 & 0.0 & 0.0 & 0.0\\\\0.0 & 0.0 & 0.0 & 0.0 & 0.0 & 0.0 & 0.0 & 8.49 & 0.0 & 0.0 & 0.0 & 0.0 & 0.0\\\\0.0 & 0.0 & 0.0 & 0.0 & 0.0 & 0.0 & 0.0 & 0.0 & 2.21 & 0.0 & 0.0 & 0.0 & 0.0\\\\0.0 & 0.0 & 0.0 & 0.0 & 0.0 & 0.0 & 0.0 & 0.0 & 0.0 & 1.38 & 0.0 & 0.0 & 0.0\\\\0.0 & 0.0 & 0.0 & 0.0 & 0.0 & 0.0 & 0.0 & 0.0 & 0.0 & 0.0 & 1.27 & 0.0 & 0.0\\\\0.0 & 0.0 & 0.0 & 0.0 & 0.0 & 0.0 & 0.0 & 0.0 & 0.0 & 0.0 & 0.0 & 1.16 & 0.0\\\\0.0 & 0.0 & 0.0 & 0.0 & 0.0 & 0.0 & 0.0 & 0.0 & 0.0 & 0.0 & 0.0 & 0.0 & 0.72\\end{array}\\right]$"
      ],
      "text/plain": [
       "⎡94.03   0.0    0.0    0.0   0.0    0.0    0.0   0.0   0.0   0.0   0.0   0.0  \n",
       "⎢                                                                             \n",
       "⎢ 0.0   56.07   0.0    0.0   0.0    0.0    0.0   0.0   0.0   0.0   0.0   0.0  \n",
       "⎢                                                                             \n",
       "⎢ 0.0    0.0   39.01   0.0   0.0    0.0    0.0   0.0   0.0   0.0   0.0   0.0  \n",
       "⎢                                                                             \n",
       "⎢ 0.0    0.0    0.0   34.26  0.0    0.0    0.0   0.0   0.0   0.0   0.0   0.0  \n",
       "⎢                                                                             \n",
       "⎢ 0.0    0.0    0.0    0.0   20.9   0.0    0.0   0.0   0.0   0.0   0.0   0.0  \n",
       "⎢                                                                             \n",
       "⎢ 0.0    0.0    0.0    0.0   0.0   18.46   0.0   0.0   0.0   0.0   0.0   0.0  \n",
       "⎢                                                                             \n",
       "⎢ 0.0    0.0    0.0    0.0   0.0    0.0   10.79  0.0   0.0   0.0   0.0   0.0  \n",
       "⎢                                                                             \n",
       "⎢ 0.0    0.0    0.0    0.0   0.0    0.0    0.0   8.49  0.0   0.0   0.0   0.0  \n",
       "⎢                                                                             \n",
       "⎢ 0.0    0.0    0.0    0.0   0.0    0.0    0.0   0.0   2.21  0.0   0.0   0.0  \n",
       "⎢                                                                             \n",
       "⎢ 0.0    0.0    0.0    0.0   0.0    0.0    0.0   0.0   0.0   1.38  0.0   0.0  \n",
       "⎢                                                                             \n",
       "⎢ 0.0    0.0    0.0    0.0   0.0    0.0    0.0   0.0   0.0   0.0   1.27  0.0  \n",
       "⎢                                                                             \n",
       "⎢ 0.0    0.0    0.0    0.0   0.0    0.0    0.0   0.0   0.0   0.0   0.0   1.16 \n",
       "⎢                                                                             \n",
       "⎣ 0.0    0.0    0.0    0.0   0.0    0.0    0.0   0.0   0.0   0.0   0.0   0.0  \n",
       "\n",
       " 0.0 ⎤\n",
       "     ⎥\n",
       " 0.0 ⎥\n",
       "     ⎥\n",
       " 0.0 ⎥\n",
       "     ⎥\n",
       " 0.0 ⎥\n",
       "     ⎥\n",
       " 0.0 ⎥\n",
       "     ⎥\n",
       " 0.0 ⎥\n",
       "     ⎥\n",
       " 0.0 ⎥\n",
       "     ⎥\n",
       " 0.0 ⎥\n",
       "     ⎥\n",
       " 0.0 ⎥\n",
       "     ⎥\n",
       " 0.0 ⎥\n",
       "     ⎥\n",
       " 0.0 ⎥\n",
       "     ⎥\n",
       " 0.0 ⎥\n",
       "     ⎥\n",
       " 0.72⎦"
      ]
     },
     "execution_count": 66,
     "metadata": {},
     "output_type": "execute_result"
    }
   ],
   "source": [
    "#eigenvalues\n",
    "Matrix(np.diag(np.round(s_test, decimals=2)))"
   ]
  },
  {
   "cell_type": "code",
   "execution_count": 67,
   "metadata": {},
   "outputs": [
    {
     "data": {
      "text/latex": [
       "$\\displaystyle \\left[\\begin{array}{ccccccccccccc}-0.470987438707653 & 0.00516683502099044 & 0.107688109708104 & 0.326096352381307 & 0.516719953383026 & 0.299898025382516 & 0.149800396890419 & -0.260643044493272 & 0.443235802487065 & 0.0556435855744878 & -0.0544802360502829 & 0.10023826497905 & 0.0180359051558682\\\\-0.296057665280039 & -0.258988761231224 & -0.17870390139867 & -0.289751960120532 & -0.668179119416779 & 0.123597567615419 & 0.178843912467443 & -0.221874965247128 & 0.414931277188997 & 0.0490614129594956 & -0.0516079216920753 & 0.0951461259005967 & 0.0117859303580165\\\\-0.535418762631228 & -0.0574833251313635 & -0.350298818179429 & -0.0582949544675709 & 0.157713634049111 & -0.700984029970295 & -0.102170034924465 & 0.237953801576116 & 0.0226212235863243 & 0.00870876687325654 & -0.00247953573965124 & 0.00276842374309189 & -0.000741091182641651\\\\-0.0624012227209237 & -0.014537373928738 & -0.000332225336108056 & 0.0109256086792565 & -0.0243067471509099 & 0.17695239421371 & 0.123823845564693 & 0.429636854343709 & 0.126440408034395 & 0.37656179107104 & -0.226187781318488 & -0.723022679582051 & 0.179564659277296\\\\-0.0778220492145547 & -0.0147631587458803 & -0.00328734744326276 & 0.0151086774502045 & -0.0183697532722809 & 0.187937662632199 & 0.265070127344719 & 0.494110321065872 & 0.0483359770835584 & 0.0818871795289806 & 0.510848675089003 & 0.136208759150696 & -0.595701630504471\\\\-0.0376072385962751 & -0.00469051047068978 & 0.00154222470063655 & 0.00723684330128955 & -0.00762871833806313 & 0.0841534004461969 & 0.117577543423758 & 0.229059498911207 & -0.0701072320977429 & -0.323105605100944 & -0.787556306212616 & 0.142423994960565 & -0.4186101212509\\\\-0.0769238642175381 & -0.0114078302672616 & -0.00580600018791687 & 0.0127379086234138 & -0.0210994295759614 & 0.181164440989889 & 0.24960067342142 & 0.486562850175787 & -0.0718562916383802 & -0.233380696621452 & 0.0265045555955125 & 0.405669058400321 & 0.660717201231117\\\\-0.223156908606354 & -0.00016303779962271 & -0.0689849401951555 & 0.0141912955776101 & -0.0950221696898897 & 0.380763094764056 & -0.858975207584919 & 0.213224001444679 & 0.0274815403621364 & -0.0266606238196988 & 0.0189697880488887 & 0.0754257581639038 & -0.0203249067690236\\\\-0.494414261467671 & 0.641108046732293 & 0.32558733617117 & -0.134855352468866 & -0.224776680617032 & 0.0554503215022366 & 0.101949827327337 & -0.118117738345425 & -0.359172699890541 & -0.0378611863328954 & 0.0410708269007949 & -0.101111366489824 & -0.00694623402764599\\\\-0.277425518558728 & -0.7140387525015 & 0.474287081932772 & -0.00235715990588536 & 0.0132730815852358 & 0.00539179395054135 & 0.00362860783119642 & -0.0477553593860928 & -0.412662676834665 & -0.0487832733269082 & 0.0479086650570272 & -0.103432149077074 & -0.00819876494659305\\\\-0.000203454956744973 & -5.00183722803423 \\cdot 10^{-5} & -0.000415103407156954 & 0.000208583299375215 & 0.00185325076474947 & -0.00242259333352035 & -0.00183437752015839 & 0.00509911163004719 & 0.23827374938853 & -0.824326981977091 & 0.233097282271675 & -0.457517152274879 & 0.00392815707048752\\\\-0.0837139578500999 & -0.0774359119897423 & -0.538533701193757 & -0.504506776646898 & 0.34866996610473 & 0.37044827613745 & 0.121199721219168 & -0.174546110172372 & -0.354857267919253 & -0.0393162867694656 & 0.0361588697188642 & -0.098288076165094 & -0.00735999039882867\\\\-0.0913685751622096 & -0.0463157631827867 & -0.456047068122396 & 0.729948186671518 & -0.280940903649868 & 0.107466287065726 & 0.102364101619984 & -0.126810880813864 & -0.345993693930954 & -0.0383150438222653 & 0.0361103487968922 & -0.0955614295313399 & -0.00717802658160287\\end{array}\\right]$"
      ],
      "text/plain": [
       "⎡ -0.470987438707653    0.00516683502099044     0.107688109708104     0.326096\n",
       "⎢                                                                             \n",
       "⎢ -0.296057665280039     -0.258988761231224     -0.17870390139867     -0.28975\n",
       "⎢                                                                             \n",
       "⎢ -0.535418762631228    -0.0574833251313635    -0.350298818179429    -0.058294\n",
       "⎢                                                                             \n",
       "⎢ -0.0624012227209237    -0.014537373928738   -0.000332225336108056   0.010925\n",
       "⎢                                                                             \n",
       "⎢ -0.0778220492145547   -0.0147631587458803   -0.00328734744326276    0.015108\n",
       "⎢                                                                             \n",
       "⎢ -0.0376072385962751   -0.00469051047068978   0.00154222470063655   0.0072368\n",
       "⎢                                                                             \n",
       "⎢ -0.0769238642175381   -0.0114078302672616   -0.00580600018791687    0.012737\n",
       "⎢                                                                             \n",
       "⎢ -0.223156908606354    -0.00016303779962271   -0.0689849401951555    0.014191\n",
       "⎢                                                                             \n",
       "⎢ -0.494414261467671     0.641108046732293      0.32558733617117      -0.13485\n",
       "⎢                                                                             \n",
       "⎢ -0.277425518558728      -0.7140387525015      0.474287081932772    -0.002357\n",
       "⎢                                                                             \n",
       "⎢-0.000203454956744973  -5.00183722803423e-5  -0.000415103407156954  0.0002085\n",
       "⎢                                                                             \n",
       "⎢ -0.0837139578500999   -0.0774359119897423    -0.538533701193757     -0.50450\n",
       "⎢                                                                             \n",
       "⎣ -0.0913685751622096   -0.0463157631827867    -0.456047068122396     0.729948\n",
       "\n",
       "352381307     0.516719953383026     0.299898025382516     0.149800396890419   \n",
       "                                                                              \n",
       "1960120532    -0.668179119416779    0.123597567615419     0.178843912467443   \n",
       "                                                                              \n",
       "9544675709    0.157713634049111     -0.700984029970295    -0.102170034924465  \n",
       "                                                                              \n",
       "6086792565   -0.0243067471509099     0.17695239421371     0.123823845564693   \n",
       "                                                                              \n",
       "6774502045   -0.0183697532722809    0.187937662632199     0.265070127344719   \n",
       "                                                                              \n",
       "4330128955   -0.00762871833806313   0.0841534004461969    0.117577543423758   \n",
       "                                                                              \n",
       "9086234138   -0.0210994295759614    0.181164440989889      0.24960067342142   \n",
       "                                                                              \n",
       "2955776101   -0.0950221696898897    0.380763094764056     -0.858975207584919  \n",
       "                                                                              \n",
       "5352468866    -0.224776680617032    0.0554503215022366    0.101949827327337   \n",
       "                                                                              \n",
       "15990588536   0.0132730815852358   0.00539179395054135   0.00362860783119642  \n",
       "                                                                              \n",
       "83299375215  0.00185325076474947   -0.00242259333352035  -0.00183437752015839 \n",
       "                                                                              \n",
       "6776646898     0.34866996610473      0.37044827613745     0.121199721219168   \n",
       "                                                                              \n",
       "186671518     -0.280940903649868    0.107466287065726     0.102364101619984   \n",
       "\n",
       " -0.260643044493272    0.443235802487065   0.0556435855744878   -0.05448023605\n",
       "                                                                              \n",
       " -0.221874965247128    0.414931277188997   0.0490614129594956   -0.05160792169\n",
       "                                                                              \n",
       "  0.237953801576116   0.0226212235863243   0.00870876687325654  -0.00247953573\n",
       "                                                                              \n",
       "  0.429636854343709    0.126440408034395    0.37656179107104     -0.2261877813\n",
       "                                                                              \n",
       "  0.494110321065872   0.0483359770835584   0.0818871795289806    0.51084867508\n",
       "                                                                              \n",
       "  0.229059498911207   -0.0701072320977429  -0.323105605100944    -0.7875563062\n",
       "                                                                              \n",
       "  0.486562850175787   -0.0718562916383802  -0.233380696621452    0.02650455559\n",
       "                                                                              \n",
       "  0.213224001444679   0.0274815403621364   -0.0266606238196988   0.01896978804\n",
       "                                                                              \n",
       " -0.118117738345425   -0.359172699890541   -0.0378611863328954   0.04107082690\n",
       "                                                                              \n",
       " -0.0477553593860928  -0.412662676834665   -0.0487832733269082   0.04790866505\n",
       "                                                                              \n",
       " 0.00509911163004719   0.23827374938853    -0.824326981977091    0.23309728227\n",
       "                                                                              \n",
       " -0.174546110172372   -0.354857267919253   -0.0393162867694656   0.03615886971\n",
       "                                                                              \n",
       " -0.126810880813864   -0.345993693930954   -0.0383150438222653   0.03611034879\n",
       "\n",
       "02829    0.10023826497905     0.0180359051558682  ⎤\n",
       "                                                  ⎥\n",
       "20753   0.0951461259005967    0.0117859303580165  ⎥\n",
       "                                                  ⎥\n",
       "965124  0.00276842374309189  -0.000741091182641651⎥\n",
       "                                                  ⎥\n",
       "18488   -0.723022679582051     0.179564659277296  ⎥\n",
       "                                                  ⎥\n",
       "9003     0.136208759150696    -0.595701630504471  ⎥\n",
       "                                                  ⎥\n",
       "12616    0.142423994960565     -0.4186101212509   ⎥\n",
       "                                                  ⎥\n",
       "55125    0.405669058400321     0.660717201231117  ⎥\n",
       "                                                  ⎥\n",
       "88887   0.0754257581639038    -0.0203249067690236 ⎥\n",
       "                                                  ⎥\n",
       "07949   -0.101111366489824   -0.00694623402764599 ⎥\n",
       "                                                  ⎥\n",
       "70272   -0.103432149077074   -0.00819876494659305 ⎥\n",
       "                                                  ⎥\n",
       "1675    -0.457517152274879    0.00392815707048752 ⎥\n",
       "                                                  ⎥\n",
       "88642   -0.098288076165094   -0.00735999039882867 ⎥\n",
       "                                                  ⎥\n",
       "68922   -0.0955614295313399  -0.00717802658160287 ⎦"
      ]
     },
     "execution_count": 67,
     "metadata": {},
     "output_type": "execute_result"
    }
   ],
   "source": [
    "#U matrix of the eigenvectors for X*X.t: 9 pcs \n",
    "Matrix(U)"
   ]
  },
  {
   "cell_type": "code",
   "execution_count": 68,
   "metadata": {},
   "outputs": [
    {
     "data": {
      "text/latex": [
       "$\\displaystyle \\left( 12384, \\  13\\right)$"
      ],
      "text/plain": [
       "(12384, 13)"
      ]
     },
     "execution_count": 68,
     "metadata": {},
     "output_type": "execute_result"
    }
   ],
   "source": [
    "Vh.T.shape"
   ]
  },
  {
   "cell_type": "code",
   "execution_count": 69,
   "metadata": {},
   "outputs": [],
   "source": [
    "#cov matrix\n",
    "covariance_matrix_test = np.cov(X_test.T)"
   ]
  },
  {
   "cell_type": "code",
   "execution_count": 70,
   "metadata": {},
   "outputs": [
    {
     "data": {
      "text/latex": [
       "$\\displaystyle \\left( \\left[\\begin{matrix}0.391755552183955\\\\0.191241937623544\\\\0.143069459277829\\\\0.0565227469506023\\\\0.0513719851082081\\\\0.0155109461776749\\\\0.00979769758352752\\\\0.00130422437637056\\\\0.000302349863347395\\\\0.000200219206832654\\\\0.000164367717726113\\\\6.271167010851 \\cdot 10^{-5}\\\\-9.47951098599424 \\cdot 10^{-17}\\end{matrix}\\right], \\  \\left[\\begin{array}{ccccccccccccc}0.109368246716208 & 0.178113528398412 & -0.29673833276408 & 0.352986613399371 & 0.458933786636233 & 0.0152123003225294 & 0.0379771958410921 & 0.726579416703306 & 0.0107952136010094 & 0.0362013473365989 & -0.0437665009358195 & -0.0103362794487643 & 5.79324031162333 \\cdot 10^{-15}\\\\-0.200178152951965 & -0.0823357994832814 & 0.324460585498159 & -0.374017313343265 & -0.498344289705537 & 0.0347850178509938 & -0.0112154316777503 & 0.674532613985243 & 0.0117881250783717 & 0.0352561097241115 & -0.0436190943858092 & -0.00492550856187577 & 4.66180684466033 \\cdot 10^{-15}\\\\0.0525676277101451 & -0.183498750538754 & 0.161387824722934 & 0.812709453385463 & -0.473222216205644 & -0.123775952132926 & -0.193281123079004 & 0.0198548591138527 & 0.00111089560625602 & -0.00260548539392854 & -0.000494493723118448 & 0.00152973965467438 & -6.22761033369224 \\cdot 10^{-16}\\\\-5.91428920565993 \\cdot 10^{-5} & 0.00857712957492164 & -0.0107784007945736 & -0.0778952162600868 & 0.0711050815217914 & -0.0244060089753797 & -0.48756749158885 & 0.0574319564744276 & 0.0177379131406725 & -0.83825522580831 & 0.10150649223289 & -0.183794698553806 & -7.20860305730516 \\cdot 10^{-15}\\\\0.00272769284579312 & 0.00789202935925517 & -0.013140899929561 & -0.0759009783956706 & 0.0791104959805817 & 0.0823232505896028 & -0.580358674047926 & 0.0301139475668621 & 0.0159276251693386 & 0.278247424536094 & 0.46483664459145 & 0.591176437782945 & -2.83190529121563 \\cdot 10^{-15}\\\\0.00349055537313848 & 0.00666949707496331 & -0.00730275269535071 & -0.0325916650447703 & 0.0355189628220323 & 0.0340678233068268 & -0.255427309176658 & -0.0417877254615753 & -0.0243628762283035 & -0.0490921667960466 & -0.858126626487122 & 0.435925855808426 & 2.14076633571377 \\cdot 10^{-16}\\\\0.00545316522486293 & 0.00515788034184626 & -0.0113420882236929 & -0.0735435743367491 & 0.0732219863903117 & 0.0720437298972313 & -0.561776700110064 & -0.0320011430807864 & -0.0165147977582739 & 0.456728389070225 & -0.179641130433386 & -0.652757972791899 & 7.47934266294744 \\cdot 10^{-15}\\\\0.0478080497979069 & -0.0315540578358306 & 0.00334789554619318 & -0.130905120152139 & 0.0756983205592988 & -0.981029547499392 & -0.0588063545874748 & 0.0371508655205394 & 0.00112991917341126 & 0.0778808316661491 & -0.00913539104387889 & 0.0208238791523775 & 1.2218475730597 \\cdot 10^{-16}\\\\0.741368393981263 & 0.373793504690186 & 0.122599038012474 & -0.0958911430467926 & -0.189512245841845 & 0.0228031801156687 & -0.00415202450561689 & 0.0170305359372884 & -0.222634556846511 & -0.00585061549772376 & 0.00907844863653597 & 0.000858008058750833 & 0.447213595499993\\\\-0.621051520077547 & 0.577870969854455 & -0.0103474416055681 & 0.125380367152517 & -0.0546602923736468 & -0.0712212601691118 & -0.0282106222227705 & -0.0717676352472099 & -0.224491416634416 & -0.000359326192029935 & 0.0112799360666539 & 0.00156052574484158 & 0.447213595499992\\\\-3.79418429695933 \\cdot 10^{-5} & -0.000235502790126238 & -0.000237107466261988 & 0.00064549813425201 & 0.00115655349807395 & 0.00154482771706133 & 0.00213482127549425 & -0.0170164692229203 & 0.893668889848426 & 0.014230803627877 & -0.028714338657646 & -0.0055240127140535 & 0.447213595499817\\\\-0.0724554194054875 & -0.462354876000321 & 0.559919840849325 & 0.0692219667624341 & 0.45691328945138 & 0.0376149950126604 & 0.0371053845020437 & 0.0317746575622898 & -0.22375455667188 & -0.00468121470418072 & 0.00388493934477573 & 0.00144342395009054 & 0.447213595499994\\\\-0.0478235126552607 & -0.489074095754194 & -0.671934329789971 & -0.0993566890024114 & -0.213897304733966 & 0.0092582573237204 & -0.00687755904915111 & 0.0399789109705462 & -0.222788359695268 & -0.00333964723390057 & 0.00447101460968086 & 0.00166205496040839 & 0.447213595499992\\end{array}\\right]\\right)$"
      ],
      "text/plain": [
       "⎛⎡  0.391755552183955  ⎤  ⎡ 0.109368246716208      0.178113528398412      -0.2\n",
       "⎜⎢                     ⎥  ⎢                                                   \n",
       "⎜⎢  0.191241937623544  ⎥  ⎢ -0.200178152951965    -0.0823357994832814     0.32\n",
       "⎜⎢                     ⎥  ⎢                                                   \n",
       "⎜⎢  0.143069459277829  ⎥  ⎢ 0.0525676277101451    -0.183498750538754      0.16\n",
       "⎜⎢                     ⎥  ⎢                                                   \n",
       "⎜⎢ 0.0565227469506023  ⎥  ⎢-5.91428920565993e-5   0.00857712957492164    -0.01\n",
       "⎜⎢                     ⎥  ⎢                                                   \n",
       "⎜⎢ 0.0513719851082081  ⎥  ⎢0.00272769284579312    0.00789202935925517    -0.01\n",
       "⎜⎢                     ⎥  ⎢                                                   \n",
       "⎜⎢ 0.0155109461776749  ⎥  ⎢0.00349055537313848    0.00666949707496331   -0.007\n",
       "⎜⎢                     ⎥  ⎢                                                   \n",
       "⎜⎢ 0.00979769758352752 ⎥, ⎢0.00545316522486293    0.00515788034184626    -0.01\n",
       "⎜⎢                     ⎥  ⎢                                                   \n",
       "⎜⎢ 0.00130422437637056 ⎥  ⎢ 0.0478080497979069    -0.0315540578358306    0.003\n",
       "⎜⎢                     ⎥  ⎢                                                   \n",
       "⎜⎢0.000302349863347395 ⎥  ⎢ 0.741368393981263      0.373793504690186      0.12\n",
       "⎜⎢                     ⎥  ⎢                                                   \n",
       "⎜⎢0.000200219206832654 ⎥  ⎢ -0.621051520077547     0.577870969854455     -0.01\n",
       "⎜⎢                     ⎥  ⎢                                                   \n",
       "⎜⎢0.000164367717726113 ⎥  ⎢-3.79418429695933e-5  -0.000235502790126238  -0.000\n",
       "⎜⎢                     ⎥  ⎢                                                   \n",
       "⎜⎢  6.271167010851e-5  ⎥  ⎢-0.0724554194054875    -0.462354876000321      0.55\n",
       "⎜⎢                     ⎥  ⎢                                                   \n",
       "⎝⎣-9.47951098599424e-17⎦  ⎣-0.0478235126552607    -0.489074095754194     -0.67\n",
       "\n",
       "9673833276408     0.352986613399371    0.458933786636233   0.0152123003225294 \n",
       "                                                                              \n",
       "4460585498159    -0.374017313343265   -0.498344289705537   0.0347850178509938 \n",
       "                                                                              \n",
       "1387824722934     0.812709453385463   -0.473222216205644   -0.123775952132926 \n",
       "                                                                              \n",
       "07784007945736   -0.0778952162600868  0.0711050815217914   -0.0244060089753797\n",
       "                                                                              \n",
       "3140899929561    -0.0759009783956706  0.0791104959805817   0.0823232505896028 \n",
       "                                                                              \n",
       "30275269535071   -0.0325916650447703  0.0355189628220323   0.0340678233068268 \n",
       "                                                                              \n",
       "13420882236929   -0.0735435743367491  0.0732219863903117   0.0720437298972313 \n",
       "                                                                              \n",
       "34789554619318   -0.130905120152139   0.0756983205592988   -0.981029547499392 \n",
       "                                                                              \n",
       "2599038012474    -0.0958911430467926  -0.189512245841845   0.0228031801156687 \n",
       "                                                                              \n",
       "03474416055681    0.125380367152517   -0.0546602923736468  -0.0712212601691118\n",
       "                                                                              \n",
       "237107466261988  0.00064549813425201  0.00115655349807395  0.00154482771706133\n",
       "                                                                              \n",
       "9919840849325    0.0692219667624341    0.45691328945138    0.0376149950126604 \n",
       "                                                                              \n",
       "1934329789971    -0.0993566890024114  -0.213897304733966   0.0092582573237204 \n",
       "\n",
       "   0.0379771958410921    0.726579416703306   0.0107952136010094    0.036201347\n",
       "                                                                              \n",
       "  -0.0112154316777503    0.674532613985243   0.0117881250783717    0.035256109\n",
       "                                                                              \n",
       "   -0.193281123079004   0.0198548591138527   0.00111089560625602  -0.002605485\n",
       "                                                                              \n",
       "   -0.48756749158885    0.0574319564744276   0.0177379131406725     -0.8382552\n",
       "                                                                              \n",
       "   -0.580358674047926   0.0301139475668621   0.0159276251693386     0.27824742\n",
       "                                                                              \n",
       "   -0.255427309176658   -0.0417877254615753  -0.0243628762283035   -0.04909216\n",
       "                                                                              \n",
       "   -0.561776700110064   -0.0320011430807864  -0.0165147977582739    0.45672838\n",
       "                                                                              \n",
       "  -0.0588063545874748   0.0371508655205394   0.00112991917341126   0.077880831\n",
       "                                                                              \n",
       "  -0.00415202450561689  0.0170305359372884   -0.222634556846511   -0.005850615\n",
       "                                                                              \n",
       "  -0.0282106222227705   -0.0717676352472099  -0.224491416634416   -0.000359326\n",
       "                                                                              \n",
       "  0.00213482127549425   -0.0170164692229203   0.893668889848426     0.01423080\n",
       "                                                                              \n",
       "   0.0371053845020437   0.0317746575622898    -0.22375455667188   -0.004681214\n",
       "                                                                              \n",
       "  -0.00687755904915111  0.0399789109705462   -0.222788359695268   -0.003339647\n",
       "\n",
       "3365989     -0.0437665009358195   -0.0103362794487643   5.79324031162333e-15 ⎤\n",
       "                                                                             ⎥\n",
       "7241115     -0.0436190943858092   -0.00492550856187577  4.66180684466033e-15 ⎥\n",
       "                                                                             ⎥\n",
       "39392854   -0.000494493723118448  0.00152973965467438   -6.22761033369224e-16⎥\n",
       "                                                                             ⎥\n",
       "2580831      0.10150649223289      -0.183794698553806   -7.20860305730516e-15⎥\n",
       "                                                                             ⎥\n",
       "4536094      0.46483664459145      0.591176437782945    -2.83190529121563e-15⎥\n",
       "                                                                             ⎥\n",
       "67960466    -0.858126626487122     0.435925855808426    2.14076633571377e-16 ⎥\n",
       "                                                                             ⎥\n",
       "9070225     -0.179641130433386     -0.652757972791899   7.47934266294744e-15 ⎥\n",
       "                                                                             ⎥\n",
       "6661491    -0.00913539104387889    0.0208238791523775    1.2218475730597e-16 ⎥\n",
       "                                                                             ⎥\n",
       "49772376    0.00907844863653597   0.000858008058750833    0.447213595499993  ⎥\n",
       "                                                                             ⎥\n",
       "192029935   0.0112799360666539    0.00156052574484158     0.447213595499992  ⎥\n",
       "                                                                             ⎥\n",
       "3627877     -0.028714338657646    -0.0055240127140535     0.447213595499817  ⎥\n",
       "                                                                             ⎥\n",
       "70418072    0.00388493934477573   0.00144342395009054     0.447213595499994  ⎥\n",
       "                                                                             ⎥\n",
       "23390057    0.00447101460968086   0.00166205496040839     0.447213595499992  ⎦\n",
       "\n",
       "⎞\n",
       "⎟\n",
       "⎟\n",
       "⎟\n",
       "⎟\n",
       "⎟\n",
       "⎟\n",
       "⎟\n",
       "⎟\n",
       "⎟\n",
       "⎟\n",
       "⎟\n",
       "⎟\n",
       "⎟\n",
       "⎟\n",
       "⎟\n",
       "⎟\n",
       "⎟\n",
       "⎟\n",
       "⎟\n",
       "⎟\n",
       "⎟\n",
       "⎟\n",
       "⎟\n",
       "⎠"
      ]
     },
     "execution_count": 70,
     "metadata": {},
     "output_type": "execute_result"
    }
   ],
   "source": [
    "#compute eingen value and eigenvectors\n",
    "eigen_values_test, eigen_vectors_test = np.linalg.eig(covariance_matrix_test)\n",
    "Matrix(eigen_values_test), Matrix(eigen_vectors_test)\n"
   ]
  },
  {
   "cell_type": "code",
   "execution_count": 71,
   "metadata": {
    "scrolled": true
   },
   "outputs": [
    {
     "data": {
      "text/latex": [
       "$\\displaystyle \\left[ 45.483994297487165, \\  22.203762401879633, \\  16.610793219547578, \\  6.56246040585102, \\  5.964441511259414, \\  1.8008673611924177, \\  1.1375420680915163, \\  0.15142436084639638, \\  0.035103725738343756, \\  0.023246050275625974, \\  0.01908358488875984, \\  0.007281012942126699, \\  -1.1005996500273426e-14\\right]$"
      ],
      "text/plain": [
       "[45.483994297487165, 22.203762401879633, 16.610793219547578, 6.56246040585102,\n",
       " 5.964441511259414, 1.8008673611924177, 1.1375420680915163, 0.1514243608463963\n",
       "8, 0.035103725738343756, 0.023246050275625974, 0.01908358488875984, 0.00728101\n",
       "2942126699, -1.1005996500273426e-14]"
      ]
     },
     "execution_count": 71,
     "metadata": {},
     "output_type": "execute_result"
    }
   ],
   "source": [
    "variance_explained_test = []\n",
    "for j in eigen_values_test:\n",
    "     variance_explained_test.append((j/sum(eigen_values_test))*100)\n",
    "        \n",
    "variance_explained_test"
   ]
  },
  {
   "cell_type": "code",
   "execution_count": 72,
   "metadata": {
    "scrolled": true
   },
   "outputs": [
    {
     "data": {
      "text/plain": [
       "array([ 45.4839943 ,  67.6877567 ,  84.29854992,  90.86101032,\n",
       "        96.82545184,  98.6263192 ,  99.76386127,  99.91528563,\n",
       "        99.95038935,  99.9736354 ,  99.99271899, 100.        ,\n",
       "       100.        ])"
      ]
     },
     "execution_count": 72,
     "metadata": {},
     "output_type": "execute_result"
    }
   ],
   "source": [
    "cum_variance_explained_test = np.cumsum(variance_explained_test)\n",
    "\n",
    "cum_variance_explained_test"
   ]
  },
  {
   "cell_type": "code",
   "execution_count": 73,
   "metadata": {
    "scrolled": true
   },
   "outputs": [
    {
     "data": {
      "text/plain": [
       "Text(0.5, 1.0, 'Components and explained variance for test set')"
      ]
     },
     "execution_count": 73,
     "metadata": {},
     "output_type": "execute_result"
    },
    {
     "data": {
      "image/png": "[encoded data removed]",
      "text/plain": [
       "<Figure size 432x288 with 1 Axes>"
      ]
     },
     "metadata": {
      "needs_background": "light"
     },
     "output_type": "display_data"
    }
   ],
   "source": [
    "sns.lineplot(x = [1,2,3,4,5,6,7,8,9,10,11,12,13] , y=cum_variance_explained_test)\n",
    "plt.xlabel( \"Components\" )\n",
    "plt.ylabel(\"Explained Variance\")\n",
    "plt.title(\"Components and explained variance for test set\")"
   ]
  },
  {
   "cell_type": "code",
   "execution_count": 74,
   "metadata": {},
   "outputs": [
    {
     "data": {
      "text/latex": [
       "$\\displaystyle \\left[\\begin{matrix}-0.470987438707653 & 0.00516683502099044 & 0.107688109708104 & 0.326096352381307 & 0.516719953383026 & 0.299898025382516\\\\-0.296057665280039 & -0.258988761231224 & -0.17870390139867 & -0.289751960120532 & -0.668179119416779 & 0.123597567615419\\\\-0.535418762631228 & -0.0574833251313635 & -0.350298818179429 & -0.0582949544675709 & 0.157713634049111 & -0.700984029970295\\\\-0.0624012227209237 & -0.014537373928738 & -0.000332225336108056 & 0.0109256086792565 & -0.0243067471509099 & 0.17695239421371\\\\-0.0778220492145547 & -0.0147631587458803 & -0.00328734744326276 & 0.0151086774502045 & -0.0183697532722809 & 0.187937662632199\\\\-0.0376072385962751 & -0.00469051047068978 & 0.00154222470063655 & 0.00723684330128955 & -0.00762871833806313 & 0.0841534004461969\\\\-0.0769238642175381 & -0.0114078302672616 & -0.00580600018791687 & 0.0127379086234138 & -0.0210994295759614 & 0.181164440989889\\\\-0.223156908606354 & -0.00016303779962271 & -0.0689849401951555 & 0.0141912955776101 & -0.0950221696898897 & 0.380763094764056\\\\-0.494414261467671 & 0.641108046732293 & 0.32558733617117 & -0.134855352468866 & -0.224776680617032 & 0.0554503215022366\\\\-0.277425518558728 & -0.7140387525015 & 0.474287081932772 & -0.00235715990588536 & 0.0132730815852358 & 0.00539179395054135\\\\-0.000203454956744973 & -5.00183722803423 \\cdot 10^{-5} & -0.000415103407156954 & 0.000208583299375215 & 0.00185325076474947 & -0.00242259333352035\\\\-0.0837139578500999 & -0.0774359119897423 & -0.538533701193757 & -0.504506776646898 & 0.34866996610473 & 0.37044827613745\\\\-0.0913685751622096 & -0.0463157631827867 & -0.456047068122396 & 0.729948186671518 & -0.280940903649868 & 0.107466287065726\\end{matrix}\\right]$"
      ],
      "text/plain": [
       "⎡ -0.470987438707653    0.00516683502099044     0.107688109708104     0.326096\n",
       "⎢                                                                             \n",
       "⎢ -0.296057665280039     -0.258988761231224     -0.17870390139867     -0.28975\n",
       "⎢                                                                             \n",
       "⎢ -0.535418762631228    -0.0574833251313635    -0.350298818179429    -0.058294\n",
       "⎢                                                                             \n",
       "⎢ -0.0624012227209237    -0.014537373928738   -0.000332225336108056   0.010925\n",
       "⎢                                                                             \n",
       "⎢ -0.0778220492145547   -0.0147631587458803   -0.00328734744326276    0.015108\n",
       "⎢                                                                             \n",
       "⎢ -0.0376072385962751   -0.00469051047068978   0.00154222470063655   0.0072368\n",
       "⎢                                                                             \n",
       "⎢ -0.0769238642175381   -0.0114078302672616   -0.00580600018791687    0.012737\n",
       "⎢                                                                             \n",
       "⎢ -0.223156908606354    -0.00016303779962271   -0.0689849401951555    0.014191\n",
       "⎢                                                                             \n",
       "⎢ -0.494414261467671     0.641108046732293      0.32558733617117      -0.13485\n",
       "⎢                                                                             \n",
       "⎢ -0.277425518558728      -0.7140387525015      0.474287081932772    -0.002357\n",
       "⎢                                                                             \n",
       "⎢-0.000203454956744973  -5.00183722803423e-5  -0.000415103407156954  0.0002085\n",
       "⎢                                                                             \n",
       "⎢ -0.0837139578500999   -0.0774359119897423    -0.538533701193757     -0.50450\n",
       "⎢                                                                             \n",
       "⎣ -0.0913685751622096   -0.0463157631827867    -0.456047068122396     0.729948\n",
       "\n",
       "352381307     0.516719953383026     0.299898025382516  ⎤\n",
       "                                                       ⎥\n",
       "1960120532    -0.668179119416779    0.123597567615419  ⎥\n",
       "                                                       ⎥\n",
       "9544675709    0.157713634049111     -0.700984029970295 ⎥\n",
       "                                                       ⎥\n",
       "6086792565   -0.0243067471509099     0.17695239421371  ⎥\n",
       "                                                       ⎥\n",
       "6774502045   -0.0183697532722809    0.187937662632199  ⎥\n",
       "                                                       ⎥\n",
       "4330128955   -0.00762871833806313   0.0841534004461969 ⎥\n",
       "                                                       ⎥\n",
       "9086234138   -0.0210994295759614    0.181164440989889  ⎥\n",
       "                                                       ⎥\n",
       "2955776101   -0.0950221696898897    0.380763094764056  ⎥\n",
       "                                                       ⎥\n",
       "5352468866    -0.224776680617032    0.0554503215022366 ⎥\n",
       "                                                       ⎥\n",
       "15990588536   0.0132730815852358   0.00539179395054135 ⎥\n",
       "                                                       ⎥\n",
       "83299375215  0.00185325076474947   -0.00242259333352035⎥\n",
       "                                                       ⎥\n",
       "6776646898     0.34866996610473      0.37044827613745  ⎥\n",
       "                                                       ⎥\n",
       "186671518     -0.280940903649868    0.107466287065726  ⎦"
      ]
     },
     "execution_count": 74,
     "metadata": {},
     "output_type": "execute_result"
    }
   ],
   "source": [
    "#take the first 6 cp \n",
    "PC6_train = U[:,:6]\n",
    "Matrix(PC6_train)\n"
   ]
  },
  {
   "cell_type": "code",
   "execution_count": 75,
   "metadata": {},
   "outputs": [
    {
     "data": {
      "text/latex": [
       "$\\displaystyle \\left( 6, \\  12384\\right)$"
      ],
      "text/plain": [
       "(6, 12384)"
      ]
     },
     "execution_count": 75,
     "metadata": {},
     "output_type": "execute_result"
    }
   ],
   "source": [
    "#dimension projection: my new training dataset \n",
    "proj_train=PC6_train.T@X_train_t\n",
    "proj_train.shape"
   ]
  },
  {
   "cell_type": "code",
   "execution_count": 76,
   "metadata": {},
   "outputs": [
    {
     "data": {
      "text/latex": [
       "$\\displaystyle \\left[\\begin{matrix}-0.47062477474326 & 0.0105621178427609 & 0.101192954691962 & 0.32765519695386 & 0.53663631702657 & 0.258933479130573\\\\-0.297209386789244 & -0.263958940464457 & -0.171341895342765 & -0.290860276060646 & -0.658171430468004 & 0.184433668689403\\\\-0.539074761696225 & -0.0636264298072828 & -0.337891111830692 & -0.0802407930555247 & 0.106665598834585 & -0.71313153125946\\\\-0.0613931136145067 & -0.0121533968382222 & -0.00103456082176501 & 0.013963190490613 & -0.00500526788441742 & 0.17700856107221\\\\-0.0765816545462925 & -0.0122884425151509 & -0.00427156576236537 & 0.0174612647189872 & 0.00155534405117516 & 0.183827497642622\\\\-0.0368546867298548 & -0.00379472381291032 & 0.00095858323800591 & 0.00921927386057428 & 0.0015992717843392 & 0.081513117971415\\\\-0.0757282898008724 & -0.00930559747811456 & -0.0069104170796325 & 0.0157814431105617 & -0.00126790373076034 & 0.176655070623752\\\\-0.221806948896987 & 0.00432342736082985 & -0.0736309895972044 & 0.0158942288503533 & -0.0595352818045174 & 0.38588144780115\\\\-0.491209057950673 & 0.644253373375735 & 0.323800380979863 & -0.122307690114452 & -0.227143568373596 & 0.0748868385996503\\\\-0.276149376901994 & -0.708353338317145 & 0.482622068621345 & 0.0174739916400668 & 0.0123869478665465 & 0.0132947550104708\\\\-0.000143365127342218 & -3.33308747411756 \\cdot 10^{-5} & -0.000189312428641931 & 0.000225217812428962 & 0.00142871945001237 & -0.000772051591891235\\\\-0.0842389812011147 & -0.0800834033111264 & -0.514913306428656 & -0.525278392401661 & 0.379271152165446 & 0.343894725554492\\\\-0.0949264505784534 & -0.0500718110926378 & -0.48768384080476 & 0.713677303292314 & -0.261308073588711 & 0.1202150290543\\end{matrix}\\right]$"
      ],
      "text/plain": [
       "⎡  -0.47062477474326     0.0105621178427609     0.101192954691962      0.32765\n",
       "⎢                                                                             \n",
       "⎢ -0.297209386789244     -0.263958940464457    -0.171341895342765     -0.29086\n",
       "⎢                                                                             \n",
       "⎢ -0.539074761696225    -0.0636264298072828    -0.337891111830692    -0.080240\n",
       "⎢                                                                             \n",
       "⎢ -0.0613931136145067   -0.0121533968382222   -0.00103456082176501    0.013963\n",
       "⎢                                                                             \n",
       "⎢ -0.0765816545462925   -0.0122884425151509   -0.00427156576236537    0.017461\n",
       "⎢                                                                             \n",
       "⎢ -0.0368546867298548   -0.00379472381291032   0.00095858323800591   0.0092192\n",
       "⎢                                                                             \n",
       "⎢ -0.0757282898008724   -0.00930559747811456   -0.0069104170796325    0.015781\n",
       "⎢                                                                             \n",
       "⎢ -0.221806948896987    0.00432342736082985    -0.0736309895972044    0.015894\n",
       "⎢                                                                             \n",
       "⎢ -0.491209057950673     0.644253373375735      0.323800380979863     -0.12230\n",
       "⎢                                                                             \n",
       "⎢ -0.276149376901994     -0.708353338317145     0.482622068621345     0.017473\n",
       "⎢                                                                             \n",
       "⎢-0.000143365127342218  -3.33308747411756e-5  -0.000189312428641931  0.0002252\n",
       "⎢                                                                             \n",
       "⎢ -0.0842389812011147   -0.0800834033111264    -0.514913306428656     -0.52527\n",
       "⎢                                                                             \n",
       "⎣ -0.0949264505784534   -0.0500718110926378     -0.48768384080476     0.713677\n",
       "\n",
       "519695386      0.53663631702657      0.258933479130573  ⎤\n",
       "                                                        ⎥\n",
       "0276060646    -0.658171430468004     0.184433668689403  ⎥\n",
       "                                                        ⎥\n",
       "7930555247    0.106665598834585      -0.71313153125946  ⎥\n",
       "                                                        ⎥\n",
       "190490613    -0.00500526788441742    0.17700856107221   ⎥\n",
       "                                                        ⎥\n",
       "2647189872   0.00155534405117516     0.183827497642622  ⎥\n",
       "                                                        ⎥\n",
       "7386057428    0.0015992717843392     0.081513117971415  ⎥\n",
       "                                                        ⎥\n",
       "4431105617   -0.00126790373076034    0.176655070623752  ⎥\n",
       "                                                        ⎥\n",
       "2288503533   -0.0595352818045174     0.38588144780115   ⎥\n",
       "                                                        ⎥\n",
       "7690114452    -0.227143568373596    0.0748868385996503  ⎥\n",
       "                                                        ⎥\n",
       "9916400668    0.0123869478665465    0.0132947550104708  ⎥\n",
       "                                                        ⎥\n",
       "17812428962  0.00142871945001237   -0.000772051591891235⎥\n",
       "                                                        ⎥\n",
       "8392401661    0.379271152165446      0.343894725554492  ⎥\n",
       "                                                        ⎥\n",
       "303292314     -0.261308073588711      0.1202150290543   ⎦"
      ]
     },
     "execution_count": 76,
     "metadata": {},
     "output_type": "execute_result"
    }
   ],
   "source": [
    "PC6_test = U_test[:,:6]\n",
    "Matrix(PC6_test)"
   ]
  },
  {
   "cell_type": "code",
   "execution_count": 77,
   "metadata": {},
   "outputs": [
    {
     "data": {
      "text/latex": [
       "$\\displaystyle \\left( \\left( 6, \\  8256\\right), \\  \\left( 13, \\  6\\right), \\  \\left( 8256, \\  13\\right), \\  \\left( 13, \\  8256\\right)\\right)$"
      ],
      "text/plain": [
       "((6, 8256), (13, 6), (8256, 13), (13, 8256))"
      ]
     },
     "execution_count": 77,
     "metadata": {},
     "output_type": "execute_result"
    }
   ],
   "source": [
    "#dimension reduction : new x_test reduced\n",
    "proj_test=PC6_test.T@X_test.T\n",
    "proj_test.shape, PC6_test.shape, X_test.shape, X_test.T.shape"
   ]
  },
  {
   "cell_type": "code",
   "execution_count": 78,
   "metadata": {},
   "outputs": [],
   "source": [
    "#plt.scatter(proj_test[0,:], proj_test[1,:], c=y_test)"
   ]
  },
  {
   "cell_type": "code",
   "execution_count": 79,
   "metadata": {},
   "outputs": [
    {
     "name": "stdout",
     "output_type": "stream",
     "text": [
      "[[1. 0. 0. 0. 0. 0.]\n",
      " [0. 1. 0. 0. 0. 0.]\n",
      " [0. 0. 1. 0. 0. 0.]\n",
      " [0. 0. 0. 1. 0. 0.]\n",
      " [0. 0. 0. 0. 1. 0.]\n",
      " [0. 0. 0. 0. 0. 1.]]\n"
     ]
    }
   ],
   "source": [
    "I_pc= np.identity(6, dtype = float) \n",
    "print(I_pc) "
   ]
  },
  {
   "cell_type": "code",
   "execution_count": 80,
   "metadata": {},
   "outputs": [],
   "source": [
    "#proj_test.shape, proj_train.shape, proj_train.T.shape,  alpha_vals.shape, I_pc.shape"
   ]
  },
  {
   "cell_type": "code",
   "execution_count": 81,
   "metadata": {},
   "outputs": [],
   "source": [
    "#ridge regression with pca--- X_train @ (((LA.inv((X_train_t@X_train)+alpha_vals*I))@X_train_t)@y_train)\n",
    "def ridge_pca(lamb): \n",
    "  y_pred_ridge_pca= proj_test.T@(((LA.inv((proj_train@proj_train.T)+lamb*I_pc))@proj_train)@y_train)\n",
    "  return y_pred_ridge_pca"
   ]
  },
  {
   "cell_type": "code",
   "execution_count": 82,
   "metadata": {},
   "outputs": [
    {
     "data": {
      "text/plain": [
       "(array([0.24316011, 0.5413896 , 0.20893131, ..., 0.40049734, 0.22339949,\n",
       "        0.43388805]),\n",
       " array([0.24315513, 0.54137872, 0.20892813, ..., 0.40051033, 0.2233962 ,\n",
       "        0.43389166]),\n",
       " array([0.24311036, 0.54128079, 0.20889949, ..., 0.40062708, 0.2233666 ,\n",
       "        0.4339241 ]),\n",
       " array([0.2426682 , 0.54030567, 0.20861627, ..., 0.4017818 , 0.22307352,\n",
       "        0.43424188]),\n",
       " array([0.23874301, 0.53094461, 0.20607379, ..., 0.41215625, 0.22040847,\n",
       "        0.43682389]),\n",
       " array([0.23524727, 0.52129597, 0.20376234, ..., 0.42158818, 0.21792485,\n",
       "        0.43864206]),\n",
       " array([0.22240929, 0.46297801, 0.1947178 , ..., 0.45653002, 0.20726086,\n",
       "        0.43436797]),\n",
       " array([0.21749007, 0.41533358, 0.1907952 , ..., 0.46312745, 0.20173078,\n",
       "        0.41561561]),\n",
       " array([0.15704121, 0.19284332, 0.13814983, ..., 0.30393147, 0.14251149,\n",
       "        0.22589351]))"
      ]
     },
     "execution_count": 82,
     "metadata": {},
     "output_type": "execute_result"
    }
   ],
   "source": [
    "#how about alpha vals?\n",
    "y_pred_ridge_pca_1=ridge_pca(0)\n",
    "y_pred_ridge_pca_2=ridge_pca(0.05)\n",
    "y_pred_ridge_pca_3=ridge_pca(0.5)\n",
    "y_pred_ridge_pca_4=ridge_pca(5)\n",
    "y_pred_ridge_pca_5=ridge_pca(50)\n",
    "y_pred_ridge_pca_6=ridge_pca(100)\n",
    "y_pred_ridge_pca_7=ridge_pca(500)\n",
    "y_pred_ridge_pca_8=ridge_pca(1000)\n",
    "y_pred_ridge_pca_9=ridge_pca(10000)\n",
    "y_pred_ridge_pca_1, y_pred_ridge_pca_2, y_pred_ridge_pca_3, y_pred_ridge_pca_4, y_pred_ridge_pca_5, y_pred_ridge_pca_6, y_pred_ridge_pca_7, y_pred_ridge_pca_8, y_pred_ridge_pca_9"
   ]
  },
  {
   "cell_type": "code",
   "execution_count": 83,
   "metadata": {},
   "outputs": [
    {
     "data": {
      "text/plain": [
       "array([0.24316011, 0.5413896 , 0.20893131, ..., 0.40049734, 0.22339949,\n",
       "       0.43388805])"
      ]
     },
     "execution_count": 83,
     "metadata": {},
     "output_type": "execute_result"
    }
   ],
   "source": [
    "y_pred_ridge_pca_1"
   ]
  },
  {
   "cell_type": "code",
   "execution_count": 84,
   "metadata": {},
   "outputs": [],
   "source": [
    "def mse_pca(lamb):\n",
    "    mse_pca=np.square((ridge_pca(lamb))-(y_test)).mean()\n",
    "    return mse_pca"
   ]
  },
  {
   "cell_type": "code",
   "execution_count": 85,
   "metadata": {},
   "outputs": [
    {
     "data": {
      "text/latex": [
       "$\\displaystyle \\left( 0.03614135136013137, \\  0.036141315514206664, \\  0.036141001521629613, \\  0.036138700277158965, \\  0.03618665723812377, \\  0.03634899613652398, \\  0.03876313043193853, \\  0.04179141917599276, \\  0.08176826469515759\\right)$"
      ],
      "text/plain": [
       "(0.03614135136013137, 0.036141315514206664, 0.036141001521629613, 0.0361387002\n",
       "77158965, 0.03618665723812377, 0.03634899613652398, 0.03876313043193853, 0.041\n",
       "79141917599276, 0.08176826469515759)"
      ]
     },
     "execution_count": 85,
     "metadata": {},
     "output_type": "execute_result"
    }
   ],
   "source": [
    "mse1_pca=mse_pca(0)\n",
    "mse2_pca=mse_pca(0.05)\n",
    "mse3_pca=mse_pca(0.5)\n",
    "mse4_pca=mse_pca(5)\n",
    "mse5_pca=mse_pca(50)\n",
    "mse6_pca=mse_pca(100) \n",
    "mse7_pca=mse_pca(500)\n",
    "mse8_pca=mse_pca(1000)\n",
    "mse9_pca=mse_pca(10000)\n",
    "mse1_pca, mse2_pca, mse3_pca, mse4_pca, mse5_pca, mse6_pca, mse7_pca, mse8_pca, mse9_pca"
   ]
  },
  {
   "cell_type": "code",
   "execution_count": 86,
   "metadata": {},
   "outputs": [
    {
     "data": {
      "text/latex": [
       "$\\displaystyle \\left( 0.036138700277158965, \\  0.03618665723812377\\right)$"
      ],
      "text/plain": [
       "(0.036138700277158965, 0.03618665723812377)"
      ]
     },
     "execution_count": 86,
     "metadata": {},
     "output_type": "execute_result"
    }
   ],
   "source": [
    "min(mse1_pca, mse2_pca, mse3_pca, mse4_pca, mse5_pca, mse6_pca, mse7_pca, mse8_pca, mse9_pca), mse5_pca"
   ]
  },
  {
   "cell_type": "code",
   "execution_count": 87,
   "metadata": {},
   "outputs": [
    {
     "data": {
      "image/png": "[encoded data removed]",
      "text/plain": [
       "<Figure size 432x288 with 1 Axes>"
      ]
     },
     "metadata": {
      "needs_background": "light"
     },
     "output_type": "display_data"
    }
   ],
   "source": [
    "sns.lineplot(x=lamb, y=[mse1,mse2,mse3,mse4,mse5,mse6,mse7,mse8,mse9], color='blue')\n",
    "sns.lineplot(x=lamb, y=[mse1_pca, mse2_pca,mse3_pca, mse4_pca, mse5_pca, mse6_pca, mse7_pca, mse8_pca, mse9_pca], color='orange')\n",
    "plt.title('Ridge and PCA comparison')\n",
    "plt.xlabel('Tuning parameter')\n",
    "plt.ylabel('MSE')\n",
    "plt.show()"
   ]
  },
  {
   "cell_type": "code",
   "execution_count": 88,
   "metadata": {},
   "outputs": [],
   "source": [
    "def ridge_pca_train(lamb): \n",
    " y_pred_r_pcat= proj_train.T@(((LA.inv((proj_train@proj_train.T)+lamb*I_pc))@proj_train)@y_train)\n",
    " return y_pred_r_pcat"
   ]
  },
  {
   "cell_type": "code",
   "execution_count": 89,
   "metadata": {},
   "outputs": [
    {
     "data": {
      "text/plain": [
       "(array([0.27040366, 0.50454878, 0.48738678, ..., 0.46453   , 0.43512825,\n",
       "        0.42267252]),\n",
       " array([0.26954766, 0.50382743, 0.48679404, ..., 0.46411903, 0.43582963,\n",
       "        0.42355135]),\n",
       " array([0.26176207, 0.49716388, 0.48092991, ..., 0.46027788, 0.44208424,\n",
       "        0.43142415]),\n",
       " array([0.23524727, 0.52129597, 0.20376234, ..., 0.42158818, 0.21792485,\n",
       "        0.43864206]),\n",
       " array([0.22309263, 0.45796966, 0.43122533, ..., 0.43526173, 0.46604785,\n",
       "        0.463574  ]),\n",
       " array([0.20773832, 0.43401915, 0.39149356, ..., 0.41706506, 0.46487528,\n",
       "        0.46560546]),\n",
       " array([0.13747708, 0.25885686, 0.18576178, ..., 0.25336509, 0.29790569,\n",
       "        0.30152414]))"
      ]
     },
     "execution_count": 89,
     "metadata": {},
     "output_type": "execute_result"
    }
   ],
   "source": [
    "y_pred_r_pcat_1=ridge_pca_train(0)\n",
    "y_pred_r_pcat_2=ridge_pca_train(0.05)\n",
    "y_pred_r_pcat_3=ridge_pca_train(0.5)\n",
    "y_pred_r_pcat_4=ridge_pca_train(5)\n",
    "y_pred_r_pcat_5=ridge_pca_train(50)\n",
    "y_pred_r_pcat_6=ridge_pca_train(100)\n",
    "y_pred_r_pcat_7=ridge_pca_train(500)\n",
    "y_pred_r_pcat_8=ridge_pca_train(1000)\n",
    "y_pred_r_pcat_9=ridge_pca_train(10000)\n",
    "y_pred_r_pcat_1, y_pred_r_pcat_2, \n",
    "y_pred_r_pcat_3, y_pred_r_pcat_4, y_pred_r_pcat_5, y_pred_ridge_pca_6, y_pred_r_pcat_7, y_pred_r_pcat_8, y_pred_r_pcat_9"
   ]
  },
  {
   "cell_type": "code",
   "execution_count": 90,
   "metadata": {},
   "outputs": [],
   "source": [
    "def mse_pca_train(lamb):\n",
    "    mse_pca_t=np.square((ridge_pca_train(lamb))-(y_train)).mean()\n",
    "    return mse_pca_t"
   ]
  },
  {
   "cell_type": "code",
   "execution_count": 91,
   "metadata": {},
   "outputs": [
    {
     "data": {
      "text/latex": [
       "$\\displaystyle \\left( 0.03554670998766554, \\  0.035546710079880445, \\  0.03554671919427651, \\  0.03554761597771868, \\  0.035624482159073205, \\  0.035813258195245064, \\  0.038317359090033525, \\  0.04133555778616508, \\  0.08044561138666378\\right)$"
      ],
      "text/plain": [
       "(0.03554670998766554, 0.035546710079880445, 0.03554671919427651, 0.03554761597\n",
       "771868, 0.035624482159073205, 0.035813258195245064, 0.038317359090033525, 0.04\n",
       "133555778616508, 0.08044561138666378)"
      ]
     },
     "execution_count": 91,
     "metadata": {},
     "output_type": "execute_result"
    }
   ],
   "source": [
    "mse1_pca_t=mse_pca_train(0)\n",
    "mse2_pca_t=mse_pca_train(0.05)\n",
    "mse3_pca_t=mse_pca_train(0.5)\n",
    "mse4_pca_t=mse_pca_train(5)\n",
    "mse5_pca_t=mse_pca_train(50)\n",
    "mse6_pca_t=mse_pca_train(100) \n",
    "mse7_pca_t=mse_pca_train(500)\n",
    "mse8_pca_t=mse_pca_train(1000)\n",
    "mse9_pca_t=mse_pca_train(10000)\n",
    "mse1_pca_t, mse2_pca_t, mse3_pca_t, mse4_pca_t, mse5_pca_t, mse6_pca_t, mse7_pca_t, mse8_pca_t, mse9_pca_t"
   ]
  },
  {
   "cell_type": "code",
   "execution_count": 92,
   "metadata": {},
   "outputs": [
    {
     "data": {
      "image/png": "[encoded data removed]",
      "text/plain": [
       "<Figure size 432x288 with 1 Axes>"
      ]
     },
     "metadata": {
      "needs_background": "light"
     },
     "output_type": "display_data"
    }
   ],
   "source": [
    "sns.lineplot(x=lamb, y=[mse1_pca, mse2_pca,mse3_pca, mse4_pca, mse5_pca, mse6_pca, mse7_pca, mse8_pca, mse9_pca], color='grey')\n",
    "sns.lineplot(x=lamb, y=[ mse1_pca_t, mse2_pca_t, mse3_pca_t, mse4_pca_t, mse5_pca_t, mse6_pca_t, mse7_pca_t, mse8_pca_t, mse9_pca_t], color='green')\n",
    "plt.xlabel=(\"Lamda\")\n",
    "plt.ylabel=(\"MSE training/test\")\n",
    "plt.show()"
   ]
  },
  {
   "cell_type": "code",
   "execution_count": null,
   "metadata": {},
   "outputs": [],
   "source": []
  },
  {
   "cell_type": "code",
   "execution_count": null,
   "metadata": {},
   "outputs": [],
   "source": []
  }
 ],
 "metadata": {
  "kernelspec": {
   "display_name": "Python 3",
   "language": "python",
   "name": "python3"
  },
  "language_info": {
   "codemirror_mode": {
    "name": "ipython",
    "version": 3
   },
   "file_extension": ".py",
   "mimetype": "text/x-python",
   "name": "python",
   "nbconvert_exporter": "python",
   "pygments_lexer": "ipython3",
   "version": "3.7.6"
  }
 },
 "nbformat": 4,
 "nbformat_minor": 4
}
